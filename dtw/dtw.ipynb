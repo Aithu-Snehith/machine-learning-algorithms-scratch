{
 "cells": [
  {
   "cell_type": "code",
   "execution_count": 1,
   "metadata": {},
   "outputs": [],
   "source": [
    "from scipy.io.wavfile import read\n",
    "import numpy as np "
   ]
  },
  {
   "cell_type": "code",
   "execution_count": 2,
   "metadata": {},
   "outputs": [],
   "source": [
    "def perform_dtw(x_path,y_path):\n",
    "    a = read(x_path)\n",
    "    b = read(y_path)\n",
    "\n",
    "    x = np.array(a[1],dtype=\"float\").reshape(-1,1)\n",
    "    y = np.array(b[1],dtype=\"float\").reshape(-1,1)\n",
    "#     print(x.shape, y.shape)\n",
    "\n",
    "    distance_matrix = np.square(np.abs(np.tile(x, (1,len(y))) - np.transpose(np.tile(y, (1,len(x))))))\n",
    "    \n",
    "    #DTW ALGORITHM\n",
    "\n",
    "    #INITIATING THE FIRST ROW AND COLUMN\n",
    "    cost = np.zeros((len(x), len(y)))\n",
    "    cost[0][0] = distance_matrix[0][0]\n",
    "    for i in range(1,len(x)):\n",
    "        cost[i][0]=distance_matrix[i][0] + cost[i-1][0]\n",
    "    for j in range(1,len(y)):\n",
    "        cost[0][j]=distance_matrix[0][j] + cost[0][j-1]\n",
    "\n",
    "    #actual DP step\n",
    "    for i in range(1,len(x)):\n",
    "        for j in range(1,len(y)):\n",
    "            cost[i][j]=distance_matrix[i][j] + min(cost[i-1][j],cost[i][j-1],cost[i-1][j-1])\n",
    "            \n",
    "    return cost[len(x)-1][len(y)-1]"
   ]
  },
  {
   "cell_type": "code",
   "execution_count": 5,
   "metadata": {},
   "outputs": [
    {
     "name": "stdout",
     "output_type": "stream",
     "text": [
      "(21248162358.0, 8622502367.0, True)\n"
     ]
    }
   ],
   "source": [
    "dist_0_3 = perform_dtw(\"digits_speech/zero/0_jackson_22.wav\",\"digits_speech/three/3_theo_23.wav\" )\n",
    "dist_0_0 = perform_dtw(\"digits_speech/zero/0_jackson_22.wav\",\"digits_speech/zero/0_jackson_0.wav\" )\n",
    "\n",
    "print(dist_0_3, dist_0_0, dist_0_0<dist_0_3)"
   ]
  }
 ],
 "metadata": {
  "kernelspec": {
   "display_name": "Python 3",
   "language": "python",
   "name": "python3"
  },
  "language_info": {
   "codemirror_mode": {
    "name": "ipython",
    "version": 3
   },
   "file_extension": ".py",
   "mimetype": "text/x-python",
   "name": "python",
   "nbconvert_exporter": "python",
   "pygments_lexer": "ipython3",
   "version": "3.5.2"
  }
 },
 "nbformat": 4,
 "nbformat_minor": 2
}
