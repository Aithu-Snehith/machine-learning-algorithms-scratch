{
 "cells": [
  {
   "cell_type": "markdown",
   "metadata": {},
   "source": [
    "# Importing packages"
   ]
  },
  {
   "cell_type": "code",
   "execution_count": 1,
   "metadata": {},
   "outputs": [],
   "source": [
    "import numpy as np\n",
    "import matplotlib.pyplot as plt"
   ]
  },
  {
   "cell_type": "markdown",
   "metadata": {},
   "source": [
    "# Defining functions"
   ]
  },
  {
   "cell_type": "code",
   "execution_count": 2,
   "metadata": {},
   "outputs": [],
   "source": [
    "def multi_normal_pdf(x , mean , co_var):\n",
    "    ex = -0.5 * ((x - mean.T).T * co_var.I * (x - mean.T))\n",
    "    den = np.sqrt(((2*np.pi)**mean.shape[1]) * np.linalg.det(co_var))\n",
    "    return np.exp(ex)/den"
   ]
  },
  {
   "cell_type": "code",
   "execution_count": 3,
   "metadata": {},
   "outputs": [],
   "source": [
    "def gaama(x , mean , co_var , weights):\n",
    "    pdfs = np.asmatrix(np.zeros((len(weights), x.shape[1])))\n",
    "    for i in range(0,x.shape[1]):\n",
    "        for j in range(0,len(weights)):\n",
    "            pdfs[j , i] = weights[j] * multi_normal_pdf(x[:,i] , mean[j] , np.asmatrix(co_var[j]))\n",
    "    pdfs_mean = np.asmatrix(np.mean(pdfs , axis = 0))\n",
    "    pdfs_mean = np.repeat(pdfs_mean , pdfs.shape[0] , axis = 0)\n",
    "    gama = pdfs / pdfs_mean\n",
    "    return np.asmatrix(gama)"
   ]
  },
  {
   "cell_type": "code",
   "execution_count": 4,
   "metadata": {},
   "outputs": [],
   "source": [
    "def log_likelihood(x , mean , co_var , weights):\n",
    "    likelihood = 0\n",
    "    for i in range(0,x.shape[1]):\n",
    "        temp_pdf = 0\n",
    "        for j in range(0,len(weights)):\n",
    "            temp_pdf = temp_pdf + weights[j] * multi_normal_pdf(x[:,i] , mean[j] , np.asmatrix(co_var[j]))\n",
    "        likelihood = likelihood +  np.log(temp_pdf)\n",
    "    return likelihood"
   ]
  },
  {
   "cell_type": "markdown",
   "metadata": {},
   "source": [
    "# Parameters"
   ]
  },
  {
   "cell_type": "code",
   "execution_count": 86,
   "metadata": {},
   "outputs": [],
   "source": [
    "# no of mixtures\n",
    "mix_size = 2\n",
    "# dimensions of samples\n",
    "dim_sample = 5\n",
    "# no of samples\n",
    "samples = 100"
   ]
  },
  {
   "cell_type": "markdown",
   "metadata": {},
   "source": [
    "# Generating Training samples"
   ]
  },
  {
   "cell_type": "code",
   "execution_count": 79,
   "metadata": {},
   "outputs": [
    {
     "name": "stdout",
     "output_type": "stream",
     "text": [
      "(5, 100) (5, 1)\n"
     ]
    }
   ],
   "source": [
    "data = np.zeros((dim_sample , samples))\n",
    "for i in range(0,mix_size):\n",
    "#     mean = np.random.randint(5,size = dim_sample)\n",
    "    mean = np.linspace(i,i+1,dim_sample)\n",
    "    temp = np.random.randint(5,size = (dim_sample,dim_sample))\n",
    "    co_var = np.matmul(temp,np.transpose(temp)) \n",
    "    data = data + np.transpose(np.random.multivariate_normal(mean , co_var , samples))\n",
    "data = np.asmatrix(data/mix_size)\n",
    "print(data.shape , data[:,0].shape)"
   ]
  },
  {
   "cell_type": "markdown",
   "metadata": {},
   "source": [
    "# Initializing parameters"
   ]
  },
  {
   "cell_type": "code",
   "execution_count": 83,
   "metadata": {},
   "outputs": [
    {
     "name": "stdout",
     "output_type": "stream",
     "text": [
      "(2, 5, 5) (2, 5) [0.5 0.5]\n"
     ]
    }
   ],
   "source": [
    "mean = np.asmatrix(np.random.rand(mix_size,dim_sample))\n",
    "# co_var = np.eye((mix_size,dim_sample , dim_sample))\n",
    "co_var = []\n",
    "for i in range(0,mix_size):\n",
    "    co_var.append(np.eye((dim_sample)))\n",
    "co_var = np.array(co_var)\n",
    "weights = np.ones(mix_size)/mix_size\n",
    "diff = 1\n",
    "print(co_var.shape , mean.shape, weights)"
   ]
  },
  {
   "cell_type": "markdown",
   "metadata": {},
   "source": [
    "# Finding the optimal parameters"
   ]
  },
  {
   "cell_type": "code",
   "execution_count": 85,
   "metadata": {},
   "outputs": [
    {
     "name": "stdout",
     "output_type": "stream",
     "text": [
      "mean:\n",
      " [[0.69261395 1.19404131 1.31907804 1.43610957 1.36098601]\n",
      " [0.69261395 1.19404131 1.31907804 1.43610957 1.36098601]] \n",
      " weights: \n",
      " [[0.77838128]\n",
      " [1.22161872]] \n",
      " variance: \n",
      " [[[2258.62014054 2190.18843748 1608.90451071 1470.86643394 1052.07900726]\n",
      "  [2190.18843748 2640.42101143 1517.4218878  1580.45206392 1113.99074293]\n",
      "  [1608.90451071 1517.4218878  1863.23527617 1147.76148554  724.42285258]\n",
      "  [1470.86643394 1580.45206392 1147.76148554 1347.77987653  627.32694861]\n",
      "  [1052.07900726 1113.99074293  724.42285258  627.32694861  980.38577457]]\n",
      "\n",
      " [[2258.62014054 2190.18843748 1608.90451071 1470.86643394 1052.07900726]\n",
      "  [2190.18843748 2640.42101143 1517.4218878  1580.45206392 1113.99074293]\n",
      "  [1608.90451071 1517.4218878  1863.23527617 1147.76148554  724.42285258]\n",
      "  [1470.86643394 1580.45206392 1147.76148554 1347.77987653  627.32694861]\n",
      "  [1052.07900726 1113.99074293  724.42285258  627.32694861  980.38577457]]]\n"
     ]
    }
   ],
   "source": [
    "while(diff > 0):\n",
    "#     finding posterior\n",
    "    gama = gaama(data , mean , co_var , weights)\n",
    "    init = log_likelihood(data , mean , co_var , weights)\n",
    "#     print(\"before: \" , mean[0,0] , \"   \" , co_var[0,0,0] , '   ' , weights[0])\n",
    "    n_k = np.sum(gama , axis = 1)\n",
    "    co_var = []\n",
    "#     updating mean , variance\n",
    "    for i in range(0,mix_size):\n",
    "        mean[i] = (np.sum(np.multiply(data, np.asmatrix(np.repeat(gama[i] , dim_sample , axis = 0))),axis = 1).T)/n_k[i]\n",
    "        temp = np.asmatrix(np.zeros((dim_sample,dim_sample)))\n",
    "        for j in range(0,samples): \n",
    "            temp = temp + (data[:,j]-mean[i].T) * (data[:,j]-mean[i].T).T \n",
    "        co_var.append(temp)\n",
    "    co_var = np.asarray(co_var)\n",
    "#     updating weights\n",
    "    weights = n_k/samples\n",
    "    final = log_likelihood(data , mean , co_var , weights)\n",
    "    diff = final - init\n",
    "#     print(diff)\n",
    "print(\"mean:\\n\" , mean , \"\\n weights: \\n\" , weights , \"\\n variance: \\n\" , co_var)"
   ]
  }
 ],
 "metadata": {
  "kernelspec": {
   "display_name": "Python 2",
   "language": "python",
   "name": "python2"
  },
  "language_info": {
   "codemirror_mode": {
    "name": "ipython",
    "version": 3
   },
   "file_extension": ".py",
   "mimetype": "text/x-python",
   "name": "python",
   "nbconvert_exporter": "python",
   "pygments_lexer": "ipython3",
   "version": "3.5.2"
  }
 },
 "nbformat": 4,
 "nbformat_minor": 2
}
