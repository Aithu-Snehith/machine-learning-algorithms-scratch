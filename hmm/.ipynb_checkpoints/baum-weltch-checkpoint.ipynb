{
 "cells": [
  {
   "cell_type": "code",
   "execution_count": 1,
   "metadata": {
    "scrolled": true
   },
   "outputs": [],
   "source": [
    "import numpy as np\n",
    "import os\n",
    "from sklearn.cluster import KMeans\n",
    "from sklearn.model_selection import train_test_split\n",
    "import librosa as ls\n",
    "import pyprind\n",
    "# Couldn't save it as a pdf file as pyprind is used for progressbar"
   ]
  },
  {
   "cell_type": "raw",
   "metadata": {},
   "source": [
    "# import pyprind\n",
    "\n",
    "import sys\n",
    "\n",
    "class Logger(object):\n",
    "    def __init__(self):\n",
    "        self.terminal = sys.stdout\n",
    "        self.log = open(\"logfile.log\", \"a\")\n",
    "\n",
    "    def write(self, message):\n",
    "        self.terminal.write(message)\n",
    "        self.log.write(message)  \n",
    "\n",
    "    def flush(self):\n",
    "        #this flush method is needed for python 3 compatibility.\n",
    "        #this handles the flush command by doing nothing.\n",
    "        #you might want to specify some extra behavior here.\n",
    "        pass    \n",
    "\n",
    "sys.stdout = Logger()"
   ]
  },
  {
   "cell_type": "code",
   "execution_count": 2,
   "metadata": {},
   "outputs": [
    {
     "name": "stderr",
     "output_type": "stream",
     "text": [
      "/home/snehith/.local/lib/python3.5/site-packages/librosa/filters.py:284: UserWarning: Empty filters detected in mel frequency basis. Some channels will produce empty responses. Try increasing your sampling rate (and fmax) or reducing n_mels.\n",
      "  warnings.warn('Empty filters detected in mel frequency basis. '\n"
     ]
    },
    {
     "name": "stdout",
     "output_type": "stream",
     "text": [
      "(200, 15, 13) (200, 15, 13)\n"
     ]
    }
   ],
   "source": [
    "zero_mfcc = []\n",
    "for file in os.listdir('digits_speech/zero/'):\n",
    "    if file.endswith(\".wav\"):\n",
    "        path = os.path.join('digits_speech/zero/',file)\n",
    "        signal,sr = ls.load(path ,sr=None,  duration=0.21)\n",
    "        mfccs = ls.feature.mfcc(y=signal, sr=sr, n_mfcc=13, hop_length=int(0.015*sr), n_fft=int(0.025*sr))\n",
    "        zero_mfcc.append(mfccs.T)\n",
    "        \n",
    "seven_mfcc = []\n",
    "for file in os.listdir('digits_speech/seven/'):\n",
    "    if file.endswith(\".wav\"):\n",
    "        path = os.path.join('digits_speech/seven/',file)\n",
    "        signal,sr = ls.load(path ,sr=None,  duration=0.21)\n",
    "        mfccs = ls.feature.mfcc(y=signal, sr=sr, n_mfcc=13, hop_length=int(0.015*sr), n_fft=int(0.025*sr))\n",
    "#         print(mfccs.T.shape)\n",
    "        seven_mfcc.append(mfccs.T)\n",
    "        \n",
    "zero_mfcc = np.array(zero_mfcc)\n",
    "seven_mfcc = np.array(seven_mfcc)\n",
    "print(zero_mfcc.shape, seven_mfcc.shape)"
   ]
  },
  {
   "cell_type": "code",
   "execution_count": 3,
   "metadata": {},
   "outputs": [
    {
     "name": "stdout",
     "output_type": "stream",
     "text": [
      "(40, 15, 13) (40, 15, 13)\n"
     ]
    }
   ],
   "source": [
    "temp = zero_mfcc - np.mean(zero_mfcc, axis = 0)\n",
    "input1 = temp/np.std(zero_mfcc, axis = 0)\n",
    "\n",
    "temp = seven_mfcc - np.mean(seven_mfcc, axis = 0)\n",
    "input2 = temp/np.std(seven_mfcc, axis = 0)\n",
    "\n",
    "in1_train,in1_test = train_test_split(input1, test_size=0.2)\n",
    "in2_train,in2_test = train_test_split(input2, test_size=0.2)\n",
    "\n",
    "\n",
    "print(in1_test.shape, in2_test.shape)"
   ]
  },
  {
   "cell_type": "code",
   "execution_count": 4,
   "metadata": {},
   "outputs": [],
   "source": [
    "n_states = 5\n",
    "m_gmm = 3\n",
    "vect_len = 13\n",
    "epochs = 20"
   ]
  },
  {
   "cell_type": "code",
   "execution_count": 5,
   "metadata": {},
   "outputs": [],
   "source": [
    "def pdf(x, state, weights):\n",
    "    wt = weights['w'][state]\n",
    "    mean = weights['mu'][state]\n",
    "    var = weights['co_var'][state]\n",
    "    \n",
    "    pdf = 0\n",
    "    \n",
    "    for i in range(m_gmm):\n",
    "        a = (np.sqrt((np.linalg.det(var[i]) * (2*np.pi)**len(x))))\n",
    "        b = np.exp((-np.matmul(np.matmul(np.transpose(x-mean[i]) , np.matrix(var[i]).I ), (x-mean[i]))/2))\n",
    "        pdf = pdf + float(b/a)\n",
    "    return pdf"
   ]
  },
  {
   "cell_type": "code",
   "execution_count": 6,
   "metadata": {},
   "outputs": [],
   "source": [
    "def forward_pass(x, weights):\n",
    "    alpha = np.zeros((x.shape[0], n_states))\n",
    "    \n",
    "    for j in range(alpha.shape[1]):\n",
    "        alpha[0][j] = weights['phi'][j] * pdf(x[0],j, weights)\n",
    "        \n",
    "    for i in range(1,alpha.shape[0]):\n",
    "        for j in range(alpha.shape[1]):\n",
    "#             print(A[:,j].shape, alpha[i-1].shape)\n",
    "            alpha[i][j] = np.dot(weights['A'][:,j].reshape(1,-1), alpha[i-1].reshape(-1,1)) * pdf(x[i], j, weights)\n",
    "    \n",
    "    return alpha\n",
    "\n",
    "def backward_pass(x, weights):\n",
    "    beta = np.zeros((x.shape[0], n_states))\n",
    "    \n",
    "    for j in range(beta.shape[1]):\n",
    "        beta[x.shape[0]-1][j] = 1\n",
    "        \n",
    "    for t in reversed(range(0,beta.shape[0]-1)):\n",
    "        for i in range(beta.shape[1]):\n",
    "            temp = 0\n",
    "            for j in range(n_states):\n",
    "                temp += beta[t+1][j]*weights['A'][i][j]*pdf(x[t+1], j, weights)\n",
    "            beta[t][i] = temp\n",
    "    \n",
    "    return beta"
   ]
  },
  {
   "cell_type": "code",
   "execution_count": 7,
   "metadata": {},
   "outputs": [],
   "source": [
    "def cal_gamma(alpha,beta, weights):\n",
    "    gamma = []\n",
    "    for i in range(0,len(alpha)):\n",
    "        gamma.append((alpha[i]*beta[i])/np.sum(alpha[i]*beta[i]))\n",
    "    gamma = np.asarray(gamma)\n",
    "    \n",
    "    return gamma\n",
    "\n",
    "def cal_zeta(x, alpha, beta, weights):\n",
    "    zeta = []\n",
    "    for t in range(alpha.shape[0]-1):\n",
    "        temp = np.zeros((n_states, n_states))\n",
    "        for i in range(n_states):\n",
    "            for j in range(n_states):\n",
    "                temp[i][j] = alpha[t][i]*weights['A'][i][j]*pdf(x[t+1], j, weights)*beta[t+1][j]\n",
    "        zeta.append(temp/np.sum(temp))\n",
    "    zeta = np.array(zeta)\n",
    "    return zeta"
   ]
  },
  {
   "cell_type": "code",
   "execution_count": 8,
   "metadata": {},
   "outputs": [],
   "source": [
    "def gmm_gamma(x, gamma, weights):\n",
    "    gmm_g = np.zeros((x.shape[0], n_states, m_gmm))\n",
    "    for t in range(x.shape[0]):\n",
    "        for i in range(n_states):\n",
    "            temp = []\n",
    "            for m in range(m_gmm):\n",
    "                a = (np.sqrt((np.linalg.det(weights['co_var'][i][m]) * (2*np.pi)**len(x[t]))))\n",
    "                b = np.exp((-np.matmul(np.matmul(np.transpose(x[t]-weights['mu'][i][m]) , np.matrix(weights['co_var'][i][m]).I ), (x[t]-weights['mu'][i][m]))/2))\n",
    "                temp.append(a/b)\n",
    "            gmm_g[t][i] = gamma[t][i] * np.squeeze(np.array(temp/np.sum(temp)))\n",
    "    return gmm_g"
   ]
  },
  {
   "cell_type": "code",
   "execution_count": 13,
   "metadata": {},
   "outputs": [],
   "source": [
    "def new_params(x, gamma, zeta, gmm_g, weights):\n",
    "    new_phi = gamma[0]\n",
    "    new_A = np.sum(zeta, axis = 0)/np.sum(gamma, axis = 0)\n",
    "    \n",
    "    new_w = np.sum(gmm_g, axis = 0)/np.sum(np.sum(gmm_g, axis = 0), axis = 0)\n",
    "    \n",
    "    new_mu = np.sum(np.tile(gmm_g.reshape(gmm_g.shape + (1,)), (1,1,1,x.shape[1])) * np.tile(x.reshape(x.shape[0], 1,1, x.shape[1]), (1,gmm_g.shape[1], gmm_g.shape[2],1)), axis = 0)/np.tile(np.sum(gmm_g, axis = 0).reshape(gmm_g.shape[1:] + (1,)), (1,1,x.shape[1]))\n",
    "    \n",
    "    new_co_var = np.zeros((n_states, m_gmm, x.shape[1], x.shape[1]))\n",
    "    \n",
    "    for j in range(n_states):\n",
    "        for m in range(m_gmm):\n",
    "            temp = []\n",
    "            for t in range(x.shape[0]):\n",
    "                te = gmm_g[t][j][m] * np.matmul((x[t] - weights['mu'][j][m]).reshape(-1,1), (x[t] - weights['mu'][j][m]).reshape(1,-1))\n",
    "                temp.append(te)\n",
    "            new_co_var[j][m] = np.sum(np.array(temp), axis = 0)/np.sum(gmm_g[:,j,m], axis = 0)\n",
    "    return new_phi, new_A, new_w, new_mu, new_co_var"
   ]
  },
  {
   "cell_type": "code",
   "execution_count": 14,
   "metadata": {},
   "outputs": [
    {
     "name": "stdout",
     "output_type": "stream",
     "text": [
      "[0.2 0.2 0.2 0.2 0.2]\n",
      "[[0.2 0.2 0.2 0.2 0.2]\n",
      " [0.2 0.2 0.2 0.2 0.2]\n",
      " [0.2 0.2 0.2 0.2 0.2]\n",
      " [0.2 0.2 0.2 0.2 0.2]\n",
      " [0.2 0.2 0.2 0.2 0.2]]\n",
      "[[0.36823476 0.59000495 0.04176029]\n",
      " [0.49546103 0.48953747 0.0150015 ]\n",
      " [0.20049427 0.44245852 0.3570472 ]\n",
      " [0.22950244 0.63087003 0.13962753]\n",
      " [0.19135992 0.29509318 0.5135469 ]]\n",
      "(5, 3, 13)\n",
      "(5, 3, 13, 13)\n"
     ]
    }
   ],
   "source": [
    "hmm1_weights = {}\n",
    "hmm1_weights['phi'] = np.ones(n_states)/n_states\n",
    "print(hmm1_weights['phi'])\n",
    "\n",
    "hmm1_weights['A'] = np.ones((n_states, n_states))/(n_states)\n",
    "print(hmm1_weights['A'])\n",
    "\n",
    "w = np.random.uniform(size = (n_states,m_gmm))\n",
    "hmm1_weights['w'] = np.transpose(np.transpose(w)/np.sum(w, axis = 1))\n",
    "print(hmm1_weights['w'])\n",
    "\n",
    "hmm1_weights['mu'] = np.random.rand(n_states, m_gmm, vect_len)\n",
    "print(hmm1_weights['mu'].shape)\n",
    "\n",
    "co_var = [np.eye(vect_len, vect_len) for _ in range(n_states*m_gmm)]\n",
    "hmm1_weights['co_var'] = np.array(co_var).reshape(n_states, m_gmm, vect_len, vect_len)\n",
    "print(hmm1_weights['co_var'].shape)\n",
    "# print(co_var[4,2,:,:])"
   ]
  },
  {
   "cell_type": "code",
   "execution_count": 15,
   "metadata": {
    "scrolled": true
   },
   "outputs": [
    {
     "name": "stdout",
     "output_type": "stream",
     "text": [
      "training HMM for number Zero\n",
      "epoch: 0\n"
     ]
    },
    {
     "name": "stderr",
     "output_type": "stream",
     "text": [
      "0% [##############################] 100% | ETA: 00:00:00\n",
      "Total time elapsed: 00:01:03\n"
     ]
    },
    {
     "name": "stdout",
     "output_type": "stream",
     "text": [
      "epoch: 1\n"
     ]
    },
    {
     "name": "stderr",
     "output_type": "stream",
     "text": [
      "0% [##############################] 100% | ETA: 00:00:00\n",
      "Total time elapsed: 00:01:04\n"
     ]
    },
    {
     "name": "stdout",
     "output_type": "stream",
     "text": [
      "epoch: 2\n"
     ]
    },
    {
     "name": "stderr",
     "output_type": "stream",
     "text": [
      "0% [##############################] 100% | ETA: 00:00:00\n",
      "Total time elapsed: 00:01:01\n"
     ]
    },
    {
     "name": "stdout",
     "output_type": "stream",
     "text": [
      "epoch: 3\n"
     ]
    },
    {
     "name": "stderr",
     "output_type": "stream",
     "text": [
      "0% [##############################] 100% | ETA: 00:00:00\n",
      "Total time elapsed: 00:01:02\n"
     ]
    },
    {
     "name": "stdout",
     "output_type": "stream",
     "text": [
      "epoch: 4\n"
     ]
    },
    {
     "name": "stderr",
     "output_type": "stream",
     "text": [
      "0% [##############################] 100% | ETA: 00:00:00\n",
      "Total time elapsed: 00:01:04\n"
     ]
    },
    {
     "name": "stdout",
     "output_type": "stream",
     "text": [
      "epoch: 5\n"
     ]
    },
    {
     "name": "stderr",
     "output_type": "stream",
     "text": [
      "0% [##############################] 100% | ETA: 00:00:00\n",
      "Total time elapsed: 00:01:05\n"
     ]
    },
    {
     "name": "stdout",
     "output_type": "stream",
     "text": [
      "epoch: 6\n"
     ]
    },
    {
     "name": "stderr",
     "output_type": "stream",
     "text": [
      "0% [##############################] 100% | ETA: 00:00:00\n",
      "Total time elapsed: 00:01:02\n"
     ]
    },
    {
     "name": "stdout",
     "output_type": "stream",
     "text": [
      "epoch: 7\n"
     ]
    },
    {
     "name": "stderr",
     "output_type": "stream",
     "text": [
      "0% [##############################] 100% | ETA: 00:00:00\n",
      "Total time elapsed: 00:01:02\n"
     ]
    },
    {
     "name": "stdout",
     "output_type": "stream",
     "text": [
      "epoch: 8\n"
     ]
    },
    {
     "name": "stderr",
     "output_type": "stream",
     "text": [
      "0% [##############################] 100% | ETA: 00:00:00\n",
      "Total time elapsed: 00:01:02\n"
     ]
    },
    {
     "name": "stdout",
     "output_type": "stream",
     "text": [
      "epoch: 9\n"
     ]
    },
    {
     "name": "stderr",
     "output_type": "stream",
     "text": [
      "0% [##############################] 100% | ETA: 00:00:00\n",
      "Total time elapsed: 00:01:05\n"
     ]
    },
    {
     "name": "stdout",
     "output_type": "stream",
     "text": [
      "epoch: 10\n"
     ]
    },
    {
     "name": "stderr",
     "output_type": "stream",
     "text": [
      "0% [##############################] 100% | ETA: 00:00:00\n",
      "Total time elapsed: 00:01:01\n"
     ]
    },
    {
     "name": "stdout",
     "output_type": "stream",
     "text": [
      "epoch: 11\n"
     ]
    },
    {
     "name": "stderr",
     "output_type": "stream",
     "text": [
      "0% [##############################] 100% | ETA: 00:00:00\n",
      "Total time elapsed: 00:01:00\n"
     ]
    },
    {
     "name": "stdout",
     "output_type": "stream",
     "text": [
      "epoch: 12\n"
     ]
    },
    {
     "name": "stderr",
     "output_type": "stream",
     "text": [
      "0% [##############################] 100% | ETA: 00:00:00\n",
      "Total time elapsed: 00:01:01\n"
     ]
    },
    {
     "name": "stdout",
     "output_type": "stream",
     "text": [
      "epoch: 13\n"
     ]
    },
    {
     "name": "stderr",
     "output_type": "stream",
     "text": [
      "0% [##############################] 100% | ETA: 00:00:00\n",
      "Total time elapsed: 00:01:03\n"
     ]
    },
    {
     "name": "stdout",
     "output_type": "stream",
     "text": [
      "epoch: 14\n"
     ]
    },
    {
     "name": "stderr",
     "output_type": "stream",
     "text": [
      "0% [##############################] 100% | ETA: 00:00:00\n",
      "Total time elapsed: 00:01:04\n"
     ]
    },
    {
     "name": "stdout",
     "output_type": "stream",
     "text": [
      "epoch: 15\n"
     ]
    },
    {
     "name": "stderr",
     "output_type": "stream",
     "text": [
      "0% [##############################] 100% | ETA: 00:00:00\n",
      "Total time elapsed: 00:01:03\n"
     ]
    },
    {
     "name": "stdout",
     "output_type": "stream",
     "text": [
      "epoch: 16\n"
     ]
    },
    {
     "name": "stderr",
     "output_type": "stream",
     "text": [
      "0% [##############################] 100% | ETA: 00:00:00\n",
      "Total time elapsed: 00:01:01\n"
     ]
    },
    {
     "name": "stdout",
     "output_type": "stream",
     "text": [
      "epoch: 17\n"
     ]
    },
    {
     "name": "stderr",
     "output_type": "stream",
     "text": [
      "0% [##############################] 100% | ETA: 00:00:00\n",
      "Total time elapsed: 00:01:00\n"
     ]
    },
    {
     "name": "stdout",
     "output_type": "stream",
     "text": [
      "epoch: 18\n"
     ]
    },
    {
     "name": "stderr",
     "output_type": "stream",
     "text": [
      "0% [##############################] 100% | ETA: 00:00:00\n",
      "Total time elapsed: 00:01:01\n"
     ]
    },
    {
     "name": "stdout",
     "output_type": "stream",
     "text": [
      "epoch: 19\n"
     ]
    },
    {
     "name": "stderr",
     "output_type": "stream",
     "text": [
      "0% [##############################] 100% | ETA: 00:00:00\n",
      "Total time elapsed: 00:01:00\n"
     ]
    }
   ],
   "source": [
    "print('training HMM for number Zero')\n",
    "\n",
    "for epoch in range(epochs):\n",
    "    n_phi = np.zeros_like(hmm1_weights['phi'])\n",
    "    n_A = np.zeros_like(hmm1_weights['A'])\n",
    "    n_w = np.zeros_like(hmm1_weights['w'])\n",
    "    n_mu = np.zeros_like(hmm1_weights['mu'])\n",
    "    n_co_var = np.zeros_like(hmm1_weights['co_var'])\n",
    "    \n",
    "    print('epoch:', epoch)\n",
    "    bar = pyprind.ProgBar(in1_train.shape[0])\n",
    "    \n",
    "    for i in range(in1_train.shape[0]):\n",
    "        bar.update()\n",
    "        inp = in1_train[i]\n",
    "        alpha = forward_pass(inp, hmm1_weights)\n",
    "        beta = backward_pass(inp, hmm1_weights)\n",
    "        gamma = cal_gamma(alpha, beta, hmm1_weights)\n",
    "        zeta = cal_zeta(inp, alpha, beta, hmm1_weights)\n",
    "        gmm_g = gmm_gamma(inp, gamma, hmm1_weights)\n",
    "        new_phi, new_A, new_w, new_mu, new_co_var = new_params(inp, gamma, zeta, gmm_g, hmm1_weights)\n",
    "        \n",
    "        n_phi = n_phi + new_phi\n",
    "        n_A = n_A + new_A\n",
    "        n_w = n_w + new_w\n",
    "        n_mu = n_mu + new_mu\n",
    "        n_co_var = n_co_var + new_co_var\n",
    "#         print('sample:', i)\n",
    "    \n",
    "    hmm1_weights['phi'] = n_phi/inp.shape[0]\n",
    "    hmm1_weights['A'] = n_A/inp.shape[0]\n",
    "    hmm1_weights['mu'] = n_mu/inp.shape[0]\n",
    "    hmm1_weights['co_var'] = n_co_var/inp.shape[0]"
   ]
  },
  {
   "cell_type": "code",
   "execution_count": 16,
   "metadata": {},
   "outputs": [
    {
     "name": "stdout",
     "output_type": "stream",
     "text": [
      "[0.2 0.2 0.2 0.2 0.2]\n",
      "[[0.2 0.2 0.2 0.2 0.2]\n",
      " [0.2 0.2 0.2 0.2 0.2]\n",
      " [0.2 0.2 0.2 0.2 0.2]\n",
      " [0.2 0.2 0.2 0.2 0.2]\n",
      " [0.2 0.2 0.2 0.2 0.2]]\n",
      "[[0.21522229 0.2938622  0.49091551]\n",
      " [0.40491728 0.29264765 0.30243507]\n",
      " [0.3613341  0.62085838 0.01780752]\n",
      " [0.0564571  0.64369936 0.29984353]\n",
      " [0.3912213  0.3251948  0.28358389]]\n",
      "(5, 3, 13)\n",
      "(5, 3, 13, 13)\n"
     ]
    }
   ],
   "source": [
    "hmm2_weights = {}\n",
    "hmm2_weights['phi'] = np.ones(n_states)/n_states\n",
    "print(hmm2_weights['phi'])\n",
    "\n",
    "hmm2_weights['A'] = np.ones((n_states, n_states))/(n_states)\n",
    "print(hmm2_weights['A'])\n",
    "\n",
    "w = np.random.uniform(size = (n_states,m_gmm))\n",
    "hmm2_weights['w'] = np.transpose(np.transpose(w)/np.sum(w, axis = 1))\n",
    "print(hmm2_weights['w'])\n",
    "\n",
    "hmm2_weights['mu'] = np.random.rand(n_states, m_gmm, vect_len)\n",
    "print(hmm2_weights['mu'].shape)\n",
    "\n",
    "co_var = [np.eye(vect_len, vect_len) for _ in range(n_states*m_gmm)]\n",
    "hmm2_weights['co_var'] = np.array(co_var).reshape(n_states, m_gmm, vect_len, vect_len)\n",
    "print(hmm2_weights['co_var'].shape)\n",
    "# print(co_var[4,2,:,:])"
   ]
  },
  {
   "cell_type": "code",
   "execution_count": 17,
   "metadata": {},
   "outputs": [
    {
     "name": "stdout",
     "output_type": "stream",
     "text": [
      "training HMM for number Seven\n",
      "epoch: 0\n"
     ]
    },
    {
     "name": "stderr",
     "output_type": "stream",
     "text": [
      "0% [##############################] 100% | ETA: 00:00:00\n",
      "Total time elapsed: 00:01:00\n"
     ]
    },
    {
     "name": "stdout",
     "output_type": "stream",
     "text": [
      "epoch: 1\n"
     ]
    },
    {
     "name": "stderr",
     "output_type": "stream",
     "text": [
      "0% [##############################] 100% | ETA: 00:00:00\n",
      "Total time elapsed: 00:01:00\n"
     ]
    },
    {
     "name": "stdout",
     "output_type": "stream",
     "text": [
      "epoch: 2\n"
     ]
    },
    {
     "name": "stderr",
     "output_type": "stream",
     "text": [
      "0% [##############################] 100% | ETA: 00:00:00\n",
      "Total time elapsed: 00:01:02\n"
     ]
    },
    {
     "name": "stdout",
     "output_type": "stream",
     "text": [
      "epoch: 3\n"
     ]
    },
    {
     "name": "stderr",
     "output_type": "stream",
     "text": [
      "0% [##############################] 100% | ETA: 00:00:00\n",
      "Total time elapsed: 00:01:01\n"
     ]
    },
    {
     "name": "stdout",
     "output_type": "stream",
     "text": [
      "epoch: 4\n"
     ]
    },
    {
     "name": "stderr",
     "output_type": "stream",
     "text": [
      "0% [##############################] 100% | ETA: 00:00:00\n",
      "Total time elapsed: 00:01:01\n"
     ]
    },
    {
     "name": "stdout",
     "output_type": "stream",
     "text": [
      "epoch: 5\n"
     ]
    },
    {
     "name": "stderr",
     "output_type": "stream",
     "text": [
      "0% [##############################] 100% | ETA: 00:00:00\n",
      "Total time elapsed: 00:01:01\n"
     ]
    },
    {
     "name": "stdout",
     "output_type": "stream",
     "text": [
      "epoch: 6\n"
     ]
    },
    {
     "name": "stderr",
     "output_type": "stream",
     "text": [
      "0% [##############################] 100% | ETA: 00:00:00\n",
      "Total time elapsed: 00:01:00\n"
     ]
    },
    {
     "name": "stdout",
     "output_type": "stream",
     "text": [
      "epoch: 7\n"
     ]
    },
    {
     "name": "stderr",
     "output_type": "stream",
     "text": [
      "0% [##############################] 100% | ETA: 00:00:00\n",
      "Total time elapsed: 00:01:00\n"
     ]
    },
    {
     "name": "stdout",
     "output_type": "stream",
     "text": [
      "epoch: 8\n"
     ]
    },
    {
     "name": "stderr",
     "output_type": "stream",
     "text": [
      "0% [##############################] 100% | ETA: 00:00:00\n",
      "Total time elapsed: 00:01:00\n"
     ]
    },
    {
     "name": "stdout",
     "output_type": "stream",
     "text": [
      "epoch: 9\n"
     ]
    },
    {
     "name": "stderr",
     "output_type": "stream",
     "text": [
      "0% [##############################] 100% | ETA: 00:00:00\n",
      "Total time elapsed: 00:01:00\n"
     ]
    },
    {
     "name": "stdout",
     "output_type": "stream",
     "text": [
      "epoch: 10\n"
     ]
    },
    {
     "name": "stderr",
     "output_type": "stream",
     "text": [
      "0% [##############################] 100% | ETA: 00:00:00\n",
      "Total time elapsed: 00:01:00\n"
     ]
    },
    {
     "name": "stdout",
     "output_type": "stream",
     "text": [
      "epoch: 11\n"
     ]
    },
    {
     "name": "stderr",
     "output_type": "stream",
     "text": [
      "0% [##############################] 100% | ETA: 00:00:00\n",
      "Total time elapsed: 00:01:00\n"
     ]
    },
    {
     "name": "stdout",
     "output_type": "stream",
     "text": [
      "epoch: 12\n"
     ]
    },
    {
     "name": "stderr",
     "output_type": "stream",
     "text": [
      "0% [##############################] 100% | ETA: 00:00:00\n",
      "Total time elapsed: 00:01:00\n"
     ]
    },
    {
     "name": "stdout",
     "output_type": "stream",
     "text": [
      "epoch: 13\n"
     ]
    },
    {
     "name": "stderr",
     "output_type": "stream",
     "text": [
      "0% [##############################] 100% | ETA: 00:00:00\n",
      "Total time elapsed: 00:01:00\n"
     ]
    },
    {
     "name": "stdout",
     "output_type": "stream",
     "text": [
      "epoch: 14\n"
     ]
    },
    {
     "name": "stderr",
     "output_type": "stream",
     "text": [
      "0% [##############################] 100% | ETA: 00:00:00\n",
      "Total time elapsed: 00:01:00\n"
     ]
    },
    {
     "name": "stdout",
     "output_type": "stream",
     "text": [
      "epoch: 15\n"
     ]
    },
    {
     "name": "stderr",
     "output_type": "stream",
     "text": [
      "0% [##############################] 100% | ETA: 00:00:00\n",
      "Total time elapsed: 00:01:00\n"
     ]
    },
    {
     "name": "stdout",
     "output_type": "stream",
     "text": [
      "epoch: 16\n"
     ]
    },
    {
     "name": "stderr",
     "output_type": "stream",
     "text": [
      "0% [##############################] 100% | ETA: 00:00:00\n",
      "Total time elapsed: 00:01:00\n"
     ]
    },
    {
     "name": "stdout",
     "output_type": "stream",
     "text": [
      "epoch: 17\n"
     ]
    },
    {
     "name": "stderr",
     "output_type": "stream",
     "text": [
      "0% [##############################] 100% | ETA: 00:00:00\n",
      "Total time elapsed: 00:01:00\n"
     ]
    },
    {
     "name": "stdout",
     "output_type": "stream",
     "text": [
      "epoch: 18\n"
     ]
    },
    {
     "name": "stderr",
     "output_type": "stream",
     "text": [
      "0% [##############################] 100% | ETA: 00:00:00\n",
      "Total time elapsed: 00:01:00\n"
     ]
    },
    {
     "name": "stdout",
     "output_type": "stream",
     "text": [
      "epoch: 19\n"
     ]
    },
    {
     "name": "stderr",
     "output_type": "stream",
     "text": [
      "0% [##############################] 100% | ETA: 00:00:00\n",
      "Total time elapsed: 00:01:00\n"
     ]
    }
   ],
   "source": [
    "print('training HMM for number Seven')\n",
    "\n",
    "\n",
    "for epoch in range(epochs):\n",
    "    n_phi = np.zeros_like(hmm2_weights['phi'])\n",
    "    n_A = np.zeros_like(hmm2_weights['A'])\n",
    "    n_w = np.zeros_like(hmm2_weights['w'])\n",
    "    n_mu = np.zeros_like(hmm2_weights['mu'])\n",
    "    n_co_var = np.zeros_like(hmm2_weights['co_var'])\n",
    "    \n",
    "    print('epoch:', epoch)\n",
    "    bar = pyprind.ProgBar(in2_train.shape[0])\n",
    "    \n",
    "    \n",
    "    for i in range(in2_train.shape[0]):\n",
    "        bar.update()\n",
    "        inp = in2_train[i]\n",
    "        alpha = forward_pass(inp, hmm2_weights)\n",
    "        beta = backward_pass(inp, hmm2_weights)\n",
    "        gamma = cal_gamma(alpha, beta, hmm2_weights)\n",
    "        zeta = cal_zeta(inp, alpha, beta, hmm2_weights)\n",
    "        gmm_g = gmm_gamma(inp, gamma, hmm2_weights)\n",
    "        new_phi, new_A, new_w, new_mu, new_co_var = new_params(inp, gamma, zeta, gmm_g, hmm2_weights)\n",
    "        \n",
    "        n_phi = n_phi + new_phi\n",
    "        n_A = n_A + new_A\n",
    "        n_w = n_w + new_w\n",
    "        n_mu = n_mu + new_mu\n",
    "        n_co_var = n_co_var + new_co_var\n",
    "#         print('epoch:', epoch, 'sample:', i)\n",
    "    \n",
    "    hmm2_weights['phi'] = n_phi/inp.shape[0]\n",
    "    hmm2_weights['A'] = n_A/inp.shape[0]\n",
    "    hmm2_weights['mu'] = n_mu/inp.shape[0]\n",
    "    hmm2_weights['co_var'] = n_co_var/inp.shape[0]"
   ]
  },
  {
   "cell_type": "code",
   "execution_count": 25,
   "metadata": {},
   "outputs": [
    {
     "name": "stdout",
     "output_type": "stream",
     "text": [
      "0.81\n",
      "0.37\n"
     ]
    }
   ],
   "source": [
    "px_in1 = []\n",
    "px_in2 = []\n",
    "\n",
    "for l in range(input1.shape[0]):\n",
    "    px_in1.append(np.sum(forward_pass(input1[l], hmm1_weights)))\n",
    "    px_in2.append(np.sum(forward_pass(input1[l], hmm2_weights)))\n",
    "\n",
    "count = 0\n",
    "for i in range(input1.shape[0]):\n",
    "    if(px_in1[i]>=px_in2[i]):\n",
    "        count += 1\n",
    "print(count/float(input1.shape[0]))\n",
    "# print(px_in1)\n",
    "# print()\n",
    "# print(px_in2)\n",
    "\n",
    "px_in1 = []\n",
    "px_in2 = []\n",
    "\n",
    "for l in range(input2.shape[0]):\n",
    "    px_in1.append(np.sum(forward_pass(input2[l], hmm1_weights)))\n",
    "    px_in2.append(np.sum(forward_pass(input2[l], hmm2_weights)))\n",
    "\n",
    "count = 0\n",
    "for i in range(input2.shape[0]):\n",
    "    if(px_in2[i]>=px_in1[i]):\n",
    "        count += 1\n",
    "print(count/float(input2.shape[0]))\n",
    "\n",
    "# print(px_in1)\n",
    "# print()\n",
    "# print(px_in2)"
   ]
  }
 ],
 "metadata": {
  "kernelspec": {
   "display_name": "Python 3",
   "language": "python",
   "name": "python3"
  },
  "language_info": {
   "codemirror_mode": {
    "name": "ipython",
    "version": 3
   },
   "file_extension": ".py",
   "mimetype": "text/x-python",
   "name": "python",
   "nbconvert_exporter": "python",
   "pygments_lexer": "ipython3",
   "version": "3.5.2"
  }
 },
 "nbformat": 4,
 "nbformat_minor": 2
}
