{
 "cells": [
  {
   "cell_type": "code",
   "execution_count": 2,
   "metadata": {
    "scrolled": true
   },
   "outputs": [],
   "source": [
    "import numpy as np\n",
    "import os\n",
    "from sklearn.cluster import KMeans\n",
    "from sklearn.model_selection import train_test_split\n",
    "import librosa as ls\n"
   ]
  },
  {
   "cell_type": "code",
   "execution_count": 16,
   "metadata": {},
   "outputs": [
    {
     "name": "stdout",
     "output_type": "stream",
     "text": [
      "(200, 15, 13) (200, 15, 13)\n"
     ]
    }
   ],
   "source": [
    "zero_mfcc = []\n",
    "for file in os.listdir('digits_speech/zero/'):\n",
    "    if file.endswith(\".wav\"):\n",
    "        path = os.path.join('digits_speech/zero/',file)\n",
    "        signal,sr = ls.load(path ,sr=None,  duration=0.21)\n",
    "        mfccs = ls.feature.mfcc(y=signal, sr=sr, n_mfcc=13, hop_length=int(0.015*sr), n_fft=int(0.025*sr))\n",
    "        zero_mfcc.append(mfccs.T)\n",
    "        \n",
    "seven_mfcc = []\n",
    "for file in os.listdir('digits_speech/seven/'):\n",
    "    if file.endswith(\".wav\"):\n",
    "        path = os.path.join('digits_speech/seven/',file)\n",
    "        signal,sr = ls.load(path ,sr=None,  duration=0.21)\n",
    "        mfccs = ls.feature.mfcc(y=signal, sr=sr, n_mfcc=13, hop_length=int(0.015*sr), n_fft=int(0.025*sr))\n",
    "#         print(mfccs.T.shape)\n",
    "        seven_mfcc.append(mfccs.T)\n",
    "        \n",
    "zero_mfcc = np.array(zero_mfcc)\n",
    "seven_mfcc = np.array(seven_mfcc)\n",
    "print(zero_mfcc.shape, seven_mfcc.shape)"
   ]
  },
  {
   "cell_type": "code",
   "execution_count": 17,
   "metadata": {},
   "outputs": [
    {
     "name": "stdout",
     "output_type": "stream",
     "text": [
      "(40, 15, 13) (40, 15, 13)\n"
     ]
    }
   ],
   "source": [
    "temp = zero_mfcc - np.mean(zero_mfcc, axis = 0)\n",
    "input1 = temp/np.std(zero_mfcc, axis = 0)\n",
    "\n",
    "temp = seven_mfcc - np.mean(seven_mfcc, axis = 0)\n",
    "input2 = temp/np.std(seven_mfcc, axis = 0)\n",
    "\n",
    "in1_train,in1_test = train_test_split(input1, test_size=0.2)\n",
    "in2_train,in2_test = train_test_split(input2, test_size=0.2)\n",
    "print(in1_test.shape, in2_test.shape)"
   ]
  },
  {
   "cell_type": "code",
   "execution_count": 57,
   "metadata": {},
   "outputs": [
    {
     "name": "stdout",
     "output_type": "stream",
     "text": [
      "[0.2 0.2 0.2 0.2 0.2]\n",
      "[[0.2 0.2 0.2 0.2 0.2]\n",
      " [0.2 0.2 0.2 0.2 0.2]\n",
      " [0.2 0.2 0.2 0.2 0.2]\n",
      " [0.2 0.2 0.2 0.2 0.2]\n",
      " [0.2 0.2 0.2 0.2 0.2]]\n",
      "[[0.43379958 0.34215659 0.22404383]\n",
      " [0.38170277 0.5005168  0.11778043]\n",
      " [0.42016375 0.38062803 0.19920822]\n",
      " [0.18219619 0.58797209 0.22983172]\n",
      " [0.16101121 0.27690376 0.56208503]]\n",
      "(5, 3, 13, 13)\n"
     ]
    }
   ],
   "source": [
    "n_states = 5\n",
    "m_gmm = 3\n",
    "vect_len = 13\n",
    "d = in1_train.shape[2]\n",
    "\n",
    "phi = np.ones(n_states)/n_states\n",
    "print(phi)\n",
    "\n",
    "A = np.ones((n_states, n_states))/(n_states)\n",
    "print(A)\n",
    "\n",
    "w = np.random.uniform(size = (n_states,m_gmm))\n",
    "w = np.transpose(np.transpose(w)/np.sum(w, axis = 1))\n",
    "print(w)\n",
    "\n",
    "mu = np.random.rand(n_states, m_gmm, vect_len)\n",
    "\n",
    "co_var = [np.eye(vect_len, vect_len) for _ in range(n_states*m_gmm)]\n",
    "co_var = np.array(co_var).reshape(n_states, m_gmm, vect_len, vect_len)\n",
    "print(co_var.shape)\n",
    "# print(co_var[4,2,:,:])"
   ]
  },
  {
   "cell_type": "code",
   "execution_count": 36,
   "metadata": {},
   "outputs": [],
   "source": [
    "def pdf(x, state):\n",
    "    wt = w[state]\n",
    "    mean = mu[state]\n",
    "    var = co_var[state]\n",
    "    \n",
    "    pdf = 0\n",
    "    \n",
    "    for i in range(m_gmm):\n",
    "        a = (np.sqrt((np.linalg.det(var[i]) * (2*np.pi)**len(x))))\n",
    "        b = np.exp((-np.matmul(np.matmul(np.transpose(x-mean[i]) , np.matrix(var[i]).I ), (x-mean[i]))/2))\n",
    "        pdf = pdf + float(b/a)\n",
    "    return pdf"
   ]
  },
  {
   "cell_type": "code",
   "execution_count": 48,
   "metadata": {},
   "outputs": [],
   "source": [
    "def forward_pass(x):\n",
    "    alpha = np.zeros((x.shape[0], n_states))\n",
    "    \n",
    "    for j in range(alpha.shape[1]):\n",
    "        alpha[0][j] = phi[j] * pdf(x[0],j)\n",
    "        \n",
    "    for i in range(1,alpha.shape[0]):\n",
    "        for j in range(alpha.shape[1]):\n",
    "#             print(A[:,j].shape, alpha[i-1].shape)\n",
    "            alpha[i][j] = np.dot(A[:,j].reshape(1,-1), alpha[i-1].reshape(-1,1)) * pdf(x[i], j)\n",
    "    \n",
    "    return alpha"
   ]
  },
  {
   "cell_type": "code",
   "execution_count": 56,
   "metadata": {},
   "outputs": [
    {
     "name": "stdout",
     "output_type": "stream",
     "text": [
      "likelihood :  1.929813136143391e-10\n"
     ]
    }
   ],
   "source": [
    "alp = forward_pass(in1_train[0])\n",
    "# print(alp.shape)\n",
    "print('likelihood : ', np.sum(alp))"
   ]
  }
 ],
 "metadata": {
  "kernelspec": {
   "display_name": "Python 3",
   "language": "python",
   "name": "python3"
  },
  "language_info": {
   "codemirror_mode": {
    "name": "ipython",
    "version": 3
   },
   "file_extension": ".py",
   "mimetype": "text/x-python",
   "name": "python",
   "nbconvert_exporter": "python",
   "pygments_lexer": "ipython3",
   "version": "3.5.2"
  }
 },
 "nbformat": 4,
 "nbformat_minor": 2
}
