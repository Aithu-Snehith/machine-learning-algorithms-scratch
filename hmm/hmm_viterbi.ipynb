{
 "cells": [
  {
   "cell_type": "code",
   "execution_count": 1,
   "metadata": {
    "scrolled": true
   },
   "outputs": [],
   "source": [
    "import numpy as np\n",
    "import os\n",
    "from sklearn.cluster import KMeans\n",
    "from sklearn.model_selection import train_test_split\n",
    "import librosa as ls\n"
   ]
  },
  {
   "cell_type": "code",
   "execution_count": 2,
   "metadata": {},
   "outputs": [
    {
     "name": "stderr",
     "output_type": "stream",
     "text": [
      "/home/snehith/.local/lib/python3.5/site-packages/librosa/filters.py:284: UserWarning: Empty filters detected in mel frequency basis. Some channels will produce empty responses. Try increasing your sampling rate (and fmax) or reducing n_mels.\n",
      "  warnings.warn('Empty filters detected in mel frequency basis. '\n"
     ]
    },
    {
     "name": "stdout",
     "output_type": "stream",
     "text": [
      "(200, 15, 13) (200, 15, 13)\n"
     ]
    }
   ],
   "source": [
    "zero_mfcc = []\n",
    "for file in os.listdir('digits_speech/zero/'):\n",
    "    if file.endswith(\".wav\"):\n",
    "        path = os.path.join('digits_speech/zero/',file)\n",
    "        signal,sr = ls.load(path ,sr=None,  duration=0.21)\n",
    "        mfccs = ls.feature.mfcc(y=signal, sr=sr, n_mfcc=13, hop_length=int(0.015*sr), n_fft=int(0.025*sr))\n",
    "        zero_mfcc.append(mfccs.T)\n",
    "        \n",
    "seven_mfcc = []\n",
    "for file in os.listdir('digits_speech/seven/'):\n",
    "    if file.endswith(\".wav\"):\n",
    "        path = os.path.join('digits_speech/seven/',file)\n",
    "        signal,sr = ls.load(path ,sr=None,  duration=0.21)\n",
    "        mfccs = ls.feature.mfcc(y=signal, sr=sr, n_mfcc=13, hop_length=int(0.015*sr), n_fft=int(0.025*sr))\n",
    "#         print(mfccs.T.shape)\n",
    "        seven_mfcc.append(mfccs.T)\n",
    "        \n",
    "zero_mfcc = np.array(zero_mfcc)\n",
    "seven_mfcc = np.array(seven_mfcc)\n",
    "print(zero_mfcc.shape, seven_mfcc.shape)"
   ]
  },
  {
   "cell_type": "code",
   "execution_count": 3,
   "metadata": {},
   "outputs": [
    {
     "name": "stdout",
     "output_type": "stream",
     "text": [
      "(40, 15, 13) (40, 15, 13)\n"
     ]
    }
   ],
   "source": [
    "temp = zero_mfcc - np.mean(zero_mfcc, axis = 0)\n",
    "input1 = temp/np.std(zero_mfcc, axis = 0)\n",
    "\n",
    "temp = seven_mfcc - np.mean(seven_mfcc, axis = 0)\n",
    "input2 = temp/np.std(seven_mfcc, axis = 0)\n",
    "\n",
    "in1_train,in1_test = train_test_split(input1, test_size=0.2)\n",
    "in2_train,in2_test = train_test_split(input2, test_size=0.2)\n",
    "print(in1_test.shape, in2_test.shape)"
   ]
  },
  {
   "cell_type": "code",
   "execution_count": 4,
   "metadata": {},
   "outputs": [
    {
     "name": "stdout",
     "output_type": "stream",
     "text": [
      "[0.2 0.2 0.2 0.2 0.2]\n",
      "[[0.2 0.2 0.2 0.2 0.2]\n",
      " [0.2 0.2 0.2 0.2 0.2]\n",
      " [0.2 0.2 0.2 0.2 0.2]\n",
      " [0.2 0.2 0.2 0.2 0.2]\n",
      " [0.2 0.2 0.2 0.2 0.2]]\n",
      "[[0.33966772 0.60330084 0.05703145]\n",
      " [0.41159951 0.27824687 0.31015362]\n",
      " [0.40519277 0.24820557 0.34660166]\n",
      " [0.35770708 0.25810899 0.38418393]\n",
      " [0.45678863 0.30307822 0.24013315]]\n",
      "(5, 3, 13, 13)\n"
     ]
    }
   ],
   "source": [
    "n_states = 5\n",
    "m_gmm = 3\n",
    "vect_len = 13\n",
    "d = in1_train.shape[2]\n",
    "\n",
    "phi = np.ones(n_states)/n_states\n",
    "print(phi)\n",
    "\n",
    "A = np.ones((n_states, n_states))/(n_states)\n",
    "print(A)\n",
    "\n",
    "w = np.random.uniform(size = (n_states,m_gmm))\n",
    "w = np.transpose(np.transpose(w)/np.sum(w, axis = 1))\n",
    "print(w)\n",
    "\n",
    "mu = np.random.rand(n_states, m_gmm, vect_len)\n",
    "\n",
    "co_var = [np.eye(vect_len, vect_len) for _ in range(n_states*m_gmm)]\n",
    "co_var = np.array(co_var).reshape(n_states, m_gmm, vect_len, vect_len)\n",
    "print(co_var.shape)\n",
    "# print(co_var[4,2,:,:])"
   ]
  },
  {
   "cell_type": "code",
   "execution_count": 5,
   "metadata": {},
   "outputs": [],
   "source": [
    "def pdf(x, state):\n",
    "    wt = w[state]\n",
    "    mean = mu[state]\n",
    "    var = co_var[state]\n",
    "    \n",
    "    pdf = 0\n",
    "    \n",
    "    for i in range(m_gmm):\n",
    "        a = (np.sqrt((np.linalg.det(var[i]) * (2*np.pi)**len(x))))\n",
    "        b = np.exp((-np.matmul(np.matmul(np.transpose(x-mean[i]) , np.matrix(var[i]).I ), (x-mean[i]))/2))\n",
    "        pdf = pdf + float(b/a)\n",
    "    return pdf"
   ]
  },
  {
   "cell_type": "code",
   "execution_count": 6,
   "metadata": {},
   "outputs": [],
   "source": [
    "def viterbi(x):\n",
    "    alpha = np.zeros((x.shape[0], n_states))\n",
    "    shi = np.zeros((x.shape[0], n_states))\n",
    "    \n",
    "    for j in range(alpha.shape[1]):\n",
    "        alpha[0][j] = phi[j] * pdf(x[0],j)\n",
    "        shi[0][j] = 0\n",
    "        \n",
    "    for i in range(1,alpha.shape[0]):\n",
    "        for j in range(alpha.shape[1]):\n",
    "            alpha[i][j] = np.max(A[:,j].reshape(-1,) * alpha[i-1].reshape(-1,)) * pdf(x[i], j)\n",
    "            shi[i][j] = np.argmax(A[:,j].reshape(-1,) * alpha[i-1].reshape(-1,))\n",
    "    \n",
    "    path = []\n",
    "    p = np.max(alpha[-1])\n",
    "    q = np.argmax(alpha[-1])\n",
    "    path.append(q)\n",
    "    \n",
    "    for i in range(alpha.shape[0]-1,0,-1):\n",
    "        q = shi[i][int(q)]\n",
    "        path.append(q)\n",
    "    \n",
    "    path.reverse()\n",
    "    path = np.array(path).astype(int)\n",
    "    return alpha,path"
   ]
  },
  {
   "cell_type": "code",
   "execution_count": 7,
   "metadata": {
    "scrolled": true
   },
   "outputs": [
    {
     "name": "stdout",
     "output_type": "stream",
     "text": [
      "Best possible path by viterbi algorithm for 5 states\n",
      "Path : [5 3 3 5 5 3 3 3 3 4 3 3 3 2 2]\n"
     ]
    }
   ],
   "source": [
    "alp, path = viterbi(in1_train[0])\n",
    "print('Best possible path by viterbi algorithm for 5 states')\n",
    "print('Path :',  path+1)"
   ]
  }
 ],
 "metadata": {
  "kernelspec": {
   "display_name": "Python 3",
   "language": "python",
   "name": "python3"
  },
  "language_info": {
   "codemirror_mode": {
    "name": "ipython",
    "version": 3
   },
   "file_extension": ".py",
   "mimetype": "text/x-python",
   "name": "python",
   "nbconvert_exporter": "python",
   "pygments_lexer": "ipython3",
   "version": "3.5.2"
  }
 },
 "nbformat": 4,
 "nbformat_minor": 2
}
