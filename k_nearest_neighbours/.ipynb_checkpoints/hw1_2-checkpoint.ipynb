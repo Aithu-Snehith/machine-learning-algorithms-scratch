{
 "cells": [
  {
   "cell_type": "code",
   "execution_count": 130,
   "metadata": {},
   "outputs": [],
   "source": [
    "import numpy as np\n",
    "import copy"
   ]
  },
  {
   "cell_type": "code",
   "execution_count": 70,
   "metadata": {},
   "outputs": [],
   "source": [
    "k = 5\n",
    "x_test = [1,1]"
   ]
  },
  {
   "cell_type": "code",
   "execution_count": 71,
   "metadata": {},
   "outputs": [
    {
     "name": "stdout",
     "output_type": "stream",
     "text": [
      "[ 1.67705596 -0.91408325]\n",
      "2.678434297067345\n",
      "2.678434297067345\n"
     ]
    }
   ],
   "source": [
    "x_train = np.transpose(np.genfromtxt('X.csv',delimiter=','))\n",
    "y_train = (np.genfromtxt('Y.csv',delimiter=',')).reshape((1000,1))\n",
    "print(x_train[0])\n",
    "print(np.linalg.norm(x_train[0]-x_test))\n",
    "print(np.sqrt(((x_train[0][0]-x_test[0])**2) + ((x_train[0][1]-x_test[1])**2)))\n",
    "# print(y_train)"
   ]
  },
  {
   "cell_type": "code",
   "execution_count": 132,
   "metadata": {},
   "outputs": [
    {
     "name": "stdout",
     "output_type": "stream",
     "text": [
      "-14.0\n"
     ]
    }
   ],
   "source": [
    "dist = []\n",
    "for i in range(0,1000):\n",
    "#     temp = ((x_train[i][0]-x_test[0])**2) + ((x_train[i][1]-x_test[1])**2)\n",
    "#     dist.append(temp)\n",
    "    dist.append(np.linalg.norm(x_train[i]-x_test))\n",
    "# print(size(dist))\n",
    "dist = np.asarray(dist)\n",
    "dist_label = np.append(dist.reshape(1000,1),y_train,axis = 1)\n",
    "print(np.sum(dist_label[:,1]))"
   ]
  },
  {
   "cell_type": "code",
   "execution_count": 133,
   "metadata": {
    "scrolled": true
   },
   "outputs": [
    {
     "name": "stdout",
     "output_type": "stream",
     "text": [
      "[[ 1.67705596 -0.91408325  2.6784343   1.        ]\n",
      " [-1.91652611 -1.30496213  0.96593064 -1.        ]\n",
      " [ 1.65105414 -1.08038307  2.65227252  1.        ]\n",
      " [ 0.84618007 -1.83369609  2.02569248  1.        ]]\n",
      "[[-1.07448067 -1.0002849   0.07448121 -1.        ]\n",
      " [-0.9103063  -1.02914395  0.09430975 -1.        ]\n",
      " [-0.99626297 -0.88029893  0.1197594  -1.        ]\n",
      " ...\n",
      " [ 3.25820035 -0.51557642  4.28566639  1.        ]\n",
      " [ 2.5322779   1.43135528  4.28817859  1.        ]\n",
      " [ 2.66722214  1.85013728  4.64454527  1.        ]]\n"
     ]
    }
   ],
   "source": [
    "# dist_sorted = dist_label\n",
    "dist_sorted = np.append(x_train,dist_label,axis = 1)\n",
    "print(dist_sorted[0:4])\n",
    "for i in range(0,1000):\n",
    "    for j in range(i,0,-1):\n",
    "        if dist_sorted[j,2] < dist_sorted[j-1,2]:\n",
    "#             dist_sorted[j-1] , dist_sorted[j] = swap(dist_sorted[j-1] , dist_sorted[j])\n",
    "            temp = copy.deepcopy(dist_sorted[j-1])\n",
    "            dist_sorted[j-1] = copy.deepcopy(dist_sorted[j])\n",
    "            dist_sorted[j] = copy.deepcopy(temp)\n",
    "#         print(np.sum(dist_sorted[:,3]),i,j)\n",
    "print(dist_sorted)"
   ]
  },
  {
   "cell_type": "code",
   "execution_count": 64,
   "metadata": {},
   "outputs": [
    {
     "name": "stdout",
     "output_type": "stream",
     "text": [
      "label = 1\n"
     ]
    }
   ],
   "source": [
    "if np.sum(dist_sorted[1:k,3]) > 0:\n",
    "    print(\"label = 1\")\n",
    "else:\n",
    "    print(\"label = -1\")"
   ]
  },
  {
   "cell_type": "code",
   "execution_count": 65,
   "metadata": {},
   "outputs": [
    {
     "name": "stdout",
     "output_type": "stream",
     "text": [
      "(493, 2)\n",
      "(507, 2)\n"
     ]
    },
    {
     "data": {
      "image/png": "[encoded data removed]",
      "text/plain": [
       "<Figure size 432x288 with 1 Axes>"
      ]
     },
     "metadata": {},
     "output_type": "display_data"
    }
   ],
   "source": [
    "import matplotlib.pyplot as plt\n",
    "\n",
    "x_train_1 = []\n",
    "x_train_0 = []\n",
    "for i in range(0,1000):\n",
    "    if y_train[i] == 1:\n",
    "        x_train_1.append(x_train[i])\n",
    "    else:\n",
    "        x_train_0.append(x_train[i])\n",
    "x_train_1 = np.asarray(x_train_1)\n",
    "x_train_0 = np.asarray(x_train_0)\n",
    "print(x_train_1.shape)\n",
    "print(x_train_0.shape)\n",
    "\n",
    "plt.plot(x_train_1[:,0],x_train_1[:,1],'o',x_train_0[:,0],x_train_0[:,1],'o',x_test[0],x_test[1],'o')\n",
    "plt.show()"
   ]
  },
  {
   "cell_type": "code",
   "execution_count": 107,
   "metadata": {},
   "outputs": [
    {
     "name": "stdout",
     "output_type": "stream",
     "text": [
      "5\n",
      "4\n",
      "3\n",
      "2\n",
      "1\n"
     ]
    }
   ],
   "source": [
    "for j in range(5,0,-1):\n",
    "    print(j)"
   ]
  },
  {
   "cell_type": "code",
   "execution_count": null,
   "metadata": {},
   "outputs": [],
   "source": []
  }
 ],
 "metadata": {
  "kernelspec": {
   "display_name": "Python 2",
   "language": "python",
   "name": "python2"
  },
  "language_info": {
   "codemirror_mode": {
    "name": "ipython",
    "version": 3
   },
   "file_extension": ".py",
   "mimetype": "text/x-python",
   "name": "python",
   "nbconvert_exporter": "python",
   "pygments_lexer": "ipython3",
   "version": "3.5.2"
  }
 },
 "nbformat": 4,
 "nbformat_minor": 2
}
