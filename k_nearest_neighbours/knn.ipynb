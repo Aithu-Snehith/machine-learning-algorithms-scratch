{
 "cells": [
  {
   "cell_type": "markdown",
   "metadata": {},
   "source": [
    "## Importing Pakages"
   ]
  },
  {
   "cell_type": "code",
   "execution_count": 1,
   "metadata": {},
   "outputs": [],
   "source": [
    "import numpy as np\n",
    "import copy"
   ]
  },
  {
   "cell_type": "markdown",
   "metadata": {},
   "source": [
    "## Parameters"
   ]
  },
  {
   "cell_type": "code",
   "execution_count": 2,
   "metadata": {},
   "outputs": [],
   "source": [
    "k = 5\n",
    "x_test = [1,1]"
   ]
  },
  {
   "cell_type": "markdown",
   "metadata": {},
   "source": [
    "## Loading the Dataset"
   ]
  },
  {
   "cell_type": "code",
   "execution_count": 3,
   "metadata": {},
   "outputs": [],
   "source": [
    "x_train = np.transpose(np.genfromtxt('X.csv',delimiter=','))           # Loading training dataset\n",
    "y_train = (np.genfromtxt('Y.csv',delimiter=',')).reshape((1000,1))     #loading the correspoding labels"
   ]
  },
  {
   "cell_type": "markdown",
   "metadata": {},
   "source": [
    "## Finding the Euclidian Distance for all the training samples w.r.t test sample"
   ]
  },
  {
   "cell_type": "code",
   "execution_count": 4,
   "metadata": {},
   "outputs": [
    {
     "name": "stdout",
     "output_type": "stream",
     "text": [
      "[[ 2.03030034  1.        ]\n",
      " [ 3.71738819 -1.        ]\n",
      " [ 2.17987734  1.        ]\n",
      " ...\n",
      " [ 2.1560412  -1.        ]\n",
      " [ 0.52724465  1.        ]\n",
      " [ 0.58514677  1.        ]]\n"
     ]
    }
   ],
   "source": [
    "dist = []\n",
    "for i in range(0,1000):\n",
    "    dist.append(np.linalg.norm(x_train[i]-x_test))    #Finding the distance\n",
    "# print(size(dist))\n",
    "dist = np.asarray(dist)\n",
    "dist_label = np.append(dist.reshape(1000,1),y_train,axis = 1)   #mapping the distances with the lables\n",
    "print(dist_label)"
   ]
  },
  {
   "cell_type": "markdown",
   "metadata": {},
   "source": [
    "## Sorting the distances along with the corresonding labels"
   ]
  },
  {
   "cell_type": "code",
   "execution_count": 5,
   "metadata": {
    "scrolled": true
   },
   "outputs": [],
   "source": [
    "dist_sorted = np.append(x_train,dist_label,axis = 1)           #Mapping distances with the lables and the samples\n",
    "for i in range(0,1000):\n",
    "    for j in range(i,0,-1):\n",
    "        if dist_sorted[j,2] < dist_sorted[j-1,2]:\n",
    "            temp = copy.deepcopy(dist_sorted[j-1])\n",
    "            dist_sorted[j-1] = copy.deepcopy(dist_sorted[j])\n",
    "            dist_sorted[j] = copy.deepcopy(temp)"
   ]
  },
  {
   "cell_type": "markdown",
   "metadata": {},
   "source": [
    "## Predecting the Labels"
   ]
  },
  {
   "cell_type": "code",
   "execution_count": 6,
   "metadata": {},
   "outputs": [
    {
     "name": "stdout",
     "output_type": "stream",
     "text": [
      "label = 1\n"
     ]
    }
   ],
   "source": [
    "if np.sum(dist_sorted[1:k,3]) > 0:\n",
    "    print(\"label = 1\")\n",
    "else:\n",
    "    print(\"label = -1\")"
   ]
  },
  {
   "cell_type": "markdown",
   "metadata": {},
   "source": [
    "# Visualisation"
   ]
  },
  {
   "cell_type": "code",
   "execution_count": 8,
   "metadata": {},
   "outputs": [
    {
     "name": "stdout",
     "output_type": "stream",
     "text": [
      "(493, 2)\n",
      "(507, 2)\n"
     ]
    },
    {
     "data": {
      "image/png": "[encoded data removed]",
      "text/plain": [
       "<Figure size 432x288 with 1 Axes>"
      ]
     },
     "metadata": {},
     "output_type": "display_data"
    }
   ],
   "source": [
    "import matplotlib.pyplot as plt\n",
    "\n",
    "x_train_1 = []\n",
    "x_train_0 = []\n",
    "for i in range(0,1000):\n",
    "    if y_train[i] == 1:\n",
    "        x_train_1.append(x_train[i])\n",
    "    else:\n",
    "        x_train_0.append(x_train[i])\n",
    "x_train_1 = np.asarray(x_train_1)\n",
    "x_train_0 = np.asarray(x_train_0)\n",
    "print(x_train_1.shape)\n",
    "print(x_train_0.shape)\n",
    "\n",
    "plt.plot(x_train_1[:,0],x_train_1[:,1],'o',label = 'label = 1')\n",
    "plt.plot(x_train_0[:,0],x_train_0[:,1],'o', label = 'Label = -1')\n",
    "plt.plot(x_test[0],x_test[1],'ro',label = 'Test Sample')\n",
    "plt.legend()\n",
    "plt.show()"
   ]
  },
  {
   "cell_type": "markdown",
   "metadata": {},
   "source": [
    "# Observations"
   ]
  },
  {
   "cell_type": "markdown",
   "metadata": {},
   "source": [
    "- K-Nearest Neighbours classifier has been implemented\n",
    "- Interpreting the two demensions as coordinates of the cartesian plane, the data has been visualized \n",
    "- As the data is neat and well distigushable, The is no change in prediction by change in \"k\".\n",
    "\n",
    "The predictions on the test data given is as follows:\n",
    "- for [1,-1] the estimated label is \"1\"\n",
    "- for [1,1] the estimated label is \"1\"\n",
    "- for [-1,-1] the estimated label is \"-1\"\n",
    "- for [-1,1] the estimated label is \"-1\"\n",
    "\n"
   ]
  }
 ],
 "metadata": {
  "kernelspec": {
   "display_name": "Python 2",
   "language": "python",
   "name": "python2"
  },
  "language_info": {
   "codemirror_mode": {
    "name": "ipython",
    "version": 3
   },
   "file_extension": ".py",
   "mimetype": "text/x-python",
   "name": "python",
   "nbconvert_exporter": "python",
   "pygments_lexer": "ipython3",
   "version": "3.5.2"
  }
 },
 "nbformat": 4,
 "nbformat_minor": 2
}
