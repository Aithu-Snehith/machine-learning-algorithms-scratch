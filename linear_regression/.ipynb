{
 "cells": [
  {
   "cell_type": "code",
   "execution_count": 166,
   "metadata": {},
   "outputs": [],
   "source": [
    "import numpy as np\n",
    "import matplotlib.pyplot as plt"
   ]
  },
  {
   "cell_type": "code",
   "execution_count": 167,
   "metadata": {},
   "outputs": [],
   "source": [
    "N = 20              # training samples\n",
    "poly_order = 10      # polynomial order\n",
    "M = 100             # testing samples"
   ]
  },
  {
   "cell_type": "code",
   "execution_count": 168,
   "metadata": {},
   "outputs": [],
   "source": [
    "# Generate equispaced floats in the interval [0, 2*pi]\n",
    "x_train = np.linspace(0, 2*np.pi, N)\n",
    "# Generate noise\n",
    "mean = 0\n",
    "std = 0.05\n",
    "# Generate some numbers from the sine function\n",
    "y = np.sin(x_train)\n",
    "# Add noise\n",
    "y += np.random.normal(mean, std, N)\n",
    "#defining it as a matrix\n",
    "y_train = np.asmatrix(y.reshape(N,1))"
   ]
  },
  {
   "cell_type": "markdown",
   "metadata": {},
   "source": [
    "# adding the bias and higher order terms to x"
   ]
  },
  {
   "cell_type": "code",
   "execution_count": 175,
   "metadata": {},
   "outputs": [
    {
     "name": "stdout",
     "output_type": "stream",
     "text": [
      "(20, 11)\n"
     ]
    }
   ],
   "source": [
    "x = np.append(np.ones((N,1)),x_train.reshape((N,1)),axis = 1)\n",
    "for i in range(0,poly_order-1):\n",
    "\tx = np.append(x,(x_train.reshape((N,1)))**(i+2),axis = 1)\n",
    "x = np.asmatrix(x)\n",
    "print(x.shape)\n",
    "# print(x)"
   ]
  },
  {
   "cell_type": "markdown",
   "metadata": {},
   "source": [
    "# finding the optimum weights"
   ]
  },
  {
   "cell_type": "code",
   "execution_count": 170,
   "metadata": {},
   "outputs": [
    {
     "name": "stdout",
     "output_type": "stream",
     "text": [
      "[[-6.38080034e-02]\n",
      " [ 2.61354820e+00]\n",
      " [-6.85966457e+00]\n",
      " [ 1.17597977e+01]\n",
      " [-1.08833485e+01]\n",
      " [ 5.83551909e+00]\n",
      " [-1.93037154e+00]\n",
      " [ 4.00929121e-01]\n",
      " [-5.09489913e-02]\n",
      " [ 3.62070155e-03]\n",
      " [-1.10241772e-04]]\n"
     ]
    }
   ],
   "source": [
    "w = (x.T*x).I*x.T*y_train\n",
    "print(w)"
   ]
  },
  {
   "cell_type": "markdown",
   "metadata": {},
   "source": [
    "# finding the 1/beta(variance)"
   ]
  },
  {
   "cell_type": "code",
   "execution_count": 171,
   "metadata": {},
   "outputs": [
    {
     "name": "stdout",
     "output_type": "stream",
     "text": [
      "0.0004200252733318746\n"
     ]
    }
   ],
   "source": [
    "y_train_predict = x*w\n",
    "variance = (np.linalg.norm(y_train - y_train_predict)**2)/N\n",
    "print(variance)"
   ]
  },
  {
   "cell_type": "markdown",
   "metadata": {},
   "source": [
    "# generating test samples"
   ]
  },
  {
   "cell_type": "code",
   "execution_count": 172,
   "metadata": {},
   "outputs": [],
   "source": [
    "M = 100\n",
    "x_test = np.linspace(0, 2*np.pi, M)\n",
    "x_testing = np.asmatrix(np.append(np.ones((M,1)),x_test.reshape(M,1),axis = 1))\n",
    "for i in range(0,poly_order-1):\n",
    "\tx_testing = np.append(x_testing,(x_test.reshape((M,1)))**(i+2),axis = 1)\n",
    "x_testing = np.asmatrix(x_testing)"
   ]
  },
  {
   "cell_type": "markdown",
   "metadata": {},
   "source": [
    "# predicting the outputs for the test sample"
   ]
  },
  {
   "cell_type": "code",
   "execution_count": 173,
   "metadata": {},
   "outputs": [],
   "source": [
    "y_test = x_testing*w\n",
    "y_test_normal = y_test + np.random.normal(0,np.sqrt(variance),(M,1))"
   ]
  },
  {
   "cell_type": "markdown",
   "metadata": {},
   "source": [
    "# ploting the results"
   ]
  },
  {
   "cell_type": "code",
   "execution_count": 174,
   "metadata": {},
   "outputs": [
    {
     "data": {
      "image/png": "[encoded data removed]",
      "text/plain": [
       "<Figure size 432x288 with 1 Axes>"
      ]
     },
     "metadata": {},
     "output_type": "display_data"
    }
   ],
   "source": [
    "plt.plot(x_train,y_train,'o',label = 'training data')\n",
    "plt.plot(x_test,y_test,label = 'predicted data')\n",
    "plt.plot(x_test,y_test_normal,'.',label = 'predicted_normal_distributed data')\n",
    "plt.legend()\n",
    "plt.grid()\n",
    "plt.title(\"Linear regression using a polynomial basis function.\")\n",
    "plt.show()"
   ]
  },
  {
   "cell_type": "markdown",
   "metadata": {},
   "source": [
    "# Observations"
   ]
  },
  {
   "cell_type": "markdown",
   "metadata": {},
   "source": [
    "- The label following a distribution is taken into account and the model is trained accordingly\n",
    "- Weights are estimated by maximum likelyhood of Y\n",
    "- variance of the labels is minimized and Normal distribution has been fit to the predicted lables, which gave pretty good fit "
   ]
  },
  {
   "cell_type": "code",
   "execution_count": null,
   "metadata": {},
   "outputs": [],
   "source": []
  }
 ],
 "metadata": {
  "kernelspec": {
   "display_name": "Python 2",
   "language": "python",
   "name": "python2"
  },
  "language_info": {
   "codemirror_mode": {
    "name": "ipython",
    "version": 3
   },
   "file_extension": ".py",
   "mimetype": "text/x-python",
   "name": "python",
   "nbconvert_exporter": "python",
   "pygments_lexer": "ipython3",
   "version": "3.5.2"
  }
 },
 "nbformat": 4,
 "nbformat_minor": 2
}
