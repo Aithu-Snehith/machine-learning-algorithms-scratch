{
 "cells": [
  {
   "cell_type": "code",
   "execution_count": 69,
   "metadata": {},
   "outputs": [],
   "source": [
    "import numpy as np\n",
    "import matplotlib.pyplot as plt"
   ]
  },
  {
   "cell_type": "markdown",
   "metadata": {},
   "source": [
    "# Generating training samples"
   ]
  },
  {
   "cell_type": "code",
   "execution_count": 70,
   "metadata": {},
   "outputs": [],
   "source": [
    "poly_order = 4\n",
    "# Number of training samples\n",
    "N = 10\n",
    "# Generate equispaced floats in the interval [0, 2*pi]\n",
    "x_train = np.linspace(0, 2*np.pi, N)\n",
    "# Generate noise\n",
    "mean = 0\n",
    "std = 0.05\n",
    "# Generate some numbers from the sine function\n",
    "y = np.sin(x_train)\n",
    "# Add noise\n",
    "y += np.random.normal(mean, std, N)\n",
    "#defining it as a matrix\n",
    "y_train = np.asmatrix(y.reshape(N,1))"
   ]
  },
  {
   "cell_type": "markdown",
   "metadata": {},
   "source": [
    "# adding the bias and higher order terms to x"
   ]
  },
  {
   "cell_type": "code",
   "execution_count": 71,
   "metadata": {},
   "outputs": [],
   "source": [
    "x = np.asmatrix(np.append(np.ones((N,1)),x_train.reshape((N,1)),axis = 1))"
   ]
  },
  {
   "cell_type": "markdown",
   "metadata": {},
   "source": [
    "# finding the optimum weights"
   ]
  },
  {
   "cell_type": "code",
   "execution_count": 72,
   "metadata": {},
   "outputs": [
    {
     "name": "stdout",
     "output_type": "stream",
     "text": [
      "[[ 0.67639965]\n",
      " [-0.20934188]]\n"
     ]
    }
   ],
   "source": [
    "w = (x.T*x).I*x.T*y_train\n",
    "print(w)"
   ]
  },
  {
   "cell_type": "markdown",
   "metadata": {},
   "source": [
    "# generating test samples"
   ]
  },
  {
   "cell_type": "code",
   "execution_count": 73,
   "metadata": {},
   "outputs": [],
   "source": [
    "M = 100\n",
    "x_t = np.linspace(0, 2*np.pi, M)\n",
    "x_test = np.asmatrix(np.append(np.ones((M,1)),x_t.reshape(M,1),axis = 1))"
   ]
  },
  {
   "cell_type": "markdown",
   "metadata": {},
   "source": [
    "# predicting the outputs for the test sample"
   ]
  },
  {
   "cell_type": "code",
   "execution_count": 74,
   "metadata": {},
   "outputs": [],
   "source": [
    "y_test = x_test*w"
   ]
  },
  {
   "cell_type": "markdown",
   "metadata": {},
   "source": [
    "# Error (cost)"
   ]
  },
  {
   "cell_type": "code",
   "execution_count": 75,
   "metadata": {},
   "outputs": [
    {
     "name": "stdout",
     "output_type": "stream",
     "text": [
      "error:-  [[2.81674634]]\n"
     ]
    }
   ],
   "source": [
    "y_fin = x * w\n",
    "\n",
    "print(\"error:- \",np.asmatrix(y_train-y_fin).T*np.asmatrix(y_train-y_fin))"
   ]
  },
  {
   "cell_type": "markdown",
   "metadata": {},
   "source": [
    "# ploting the results"
   ]
  },
  {
   "cell_type": "code",
   "execution_count": 76,
   "metadata": {},
   "outputs": [
    {
     "data": {
      "image/png": "[encoded data removed]",
      "text/plain": [
       "<Figure size 432x288 with 1 Axes>"
      ]
     },
     "metadata": {},
     "output_type": "display_data"
    }
   ],
   "source": [
    "plt.plot(x_train,y_train,'o',label = 'training data')\n",
    "plt.plot(x_t,y_test,'.',label = 'testing data')\n",
    "plt.legend()\n",
    "plt.grid()\n",
    "plt.title(\"Vanilla regression\")\n",
    "plt.show()"
   ]
  },
  {
   "cell_type": "markdown",
   "metadata": {},
   "source": [
    "# Observations"
   ]
  },
  {
   "cell_type": "markdown",
   "metadata": {},
   "source": [
    "As the number of parameters is only 2 , \n",
    "- the model is estimated by a straight line\n",
    "- The error is pretty high\n",
    "\n",
    "By increasing the variance of the noise\n",
    "- There error has increased \n",
    "- But there is not much shift in the plots"
   ]
  },
  {
   "cell_type": "code",
   "execution_count": null,
   "metadata": {},
   "outputs": [],
   "source": []
  }
 ],
 "metadata": {
  "kernelspec": {
   "display_name": "Python 2",
   "language": "python",
   "name": "python2"
  },
  "language_info": {
   "codemirror_mode": {
    "name": "ipython",
    "version": 3
   },
   "file_extension": ".py",
   "mimetype": "text/x-python",
   "name": "python",
   "nbconvert_exporter": "python",
   "pygments_lexer": "ipython3",
   "version": "3.5.2"
  }
 },
 "nbformat": 4,
 "nbformat_minor": 2
}
