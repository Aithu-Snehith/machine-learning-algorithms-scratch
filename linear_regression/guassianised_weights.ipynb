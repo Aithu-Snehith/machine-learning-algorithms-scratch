{
 "cells": [
  {
   "cell_type": "code",
   "execution_count": 64,
   "metadata": {},
   "outputs": [],
   "source": [
    "import numpy as np\n",
    "import matplotlib.pyplot as plt"
   ]
  },
  {
   "cell_type": "markdown",
   "metadata": {},
   "source": [
    "# Parameters"
   ]
  },
  {
   "cell_type": "code",
   "execution_count": 65,
   "metadata": {},
   "outputs": [],
   "source": [
    "N = 10              # training samples\n",
    "poly_order = 12      # polynomial order\n",
    "M = 100             # testing samples\n",
    "variance_y = 1e-6   # y guassian variance\n",
    "variance_w = 8e-3       # w guassian variance"
   ]
  },
  {
   "cell_type": "code",
   "execution_count": 66,
   "metadata": {},
   "outputs": [],
   "source": [
    "# Generate equispaced floats in the interval [0, 2*pi]\n",
    "x_train = np.linspace(0, 2*np.pi, N)\n",
    "# Generate noise\n",
    "mean = 0\n",
    "std = 0.05\n",
    "# Generate some numbers from the sine function\n",
    "y = np.sin(x_train)\n",
    "# Add noise\n",
    "y += np.random.normal(mean, std, N)\n",
    "#defining it as a matrix\n",
    "y_train = np.asmatrix(y.reshape(N,1))"
   ]
  },
  {
   "cell_type": "markdown",
   "metadata": {},
   "source": [
    "# adding the bias and higher order terms to x"
   ]
  },
  {
   "cell_type": "code",
   "execution_count": 72,
   "metadata": {},
   "outputs": [
    {
     "name": "stdout",
     "output_type": "stream",
     "text": [
      "(10, 12)\n"
     ]
    }
   ],
   "source": [
    "x = x_train.reshape((N,1))\n",
    "for i in range(0,poly_order-1):\n",
    "\tx = np.append(x,(x_train.reshape((N,1)))**(i+2),axis = 1)\n",
    "x = np.asmatrix(x)\n",
    "print(x.shape)\n",
    "# print(x)"
   ]
  },
  {
   "cell_type": "markdown",
   "metadata": {},
   "source": [
    "# finding the optimum weights"
   ]
  },
  {
   "cell_type": "code",
   "execution_count": 68,
   "metadata": {},
   "outputs": [
    {
     "name": "stdout",
     "output_type": "stream",
     "text": [
      "[[ 6.72485729e-01]\n",
      " [ 4.01922430e-01]\n",
      " [-1.53537450e-01]\n",
      " [-1.29081553e-01]\n",
      " [-2.35503068e-02]\n",
      " [ 6.93587612e-02]\n",
      " [-2.46160170e-02]\n",
      " [ 2.19864568e-03]\n",
      " [ 4.84498749e-04]\n",
      " [-1.25305610e-04]\n",
      " [ 9.62986321e-06]\n",
      " [-2.17271822e-07]]\n"
     ]
    }
   ],
   "source": [
    "w = (x.T*x +  (variance_y/variance_w)*np.eye(poly_order)).I*x.T*y_train\n",
    "print(w)"
   ]
  },
  {
   "cell_type": "markdown",
   "metadata": {},
   "source": [
    "# generating test samples"
   ]
  },
  {
   "cell_type": "code",
   "execution_count": 69,
   "metadata": {},
   "outputs": [],
   "source": [
    "x_test = np.linspace(0, 2*np.pi, M)\n",
    "x = x_test.reshape(M,1)\n",
    "for i in range(0,poly_order-1):\n",
    "\tx = np.append(x,(x_test.reshape((M,1)))**(i+2),axis = 1)\n",
    "x = np.asmatrix(x)"
   ]
  },
  {
   "cell_type": "markdown",
   "metadata": {},
   "source": [
    "# predicting the outputs for the test sample"
   ]
  },
  {
   "cell_type": "code",
   "execution_count": 70,
   "metadata": {},
   "outputs": [],
   "source": [
    "y_test = x*w\n",
    "y_test_normal = y_test + np.random.normal(0,np.sqrt(variance_y),(M,1))"
   ]
  },
  {
   "cell_type": "markdown",
   "metadata": {},
   "source": [
    "# ploting the results"
   ]
  },
  {
   "cell_type": "code",
   "execution_count": 71,
   "metadata": {},
   "outputs": [
    {
     "data": {
      "image/png": "[encoded data removed]",
      "text/plain": [
       "<Figure size 432x288 with 1 Axes>"
      ]
     },
     "metadata": {},
     "output_type": "display_data"
    }
   ],
   "source": [
    "plt.plot(x_train,y_train,'o',label = 'training data')\n",
    "plt.plot(x_test,y_test,label = 'predicted data')\n",
    "plt.plot(x_test,y_test_normal,'.',label = 'predicted_normal_distributed data')\n",
    "plt.legend()\n",
    "plt.grid()\n",
    "plt.title(\"Linear regression using a polynomial basis function.\")\n",
    "plt.show()"
   ]
  },
  {
   "cell_type": "markdown",
   "metadata": {},
   "source": [
    "# Observations"
   ]
  },
  {
   "cell_type": "markdown",
   "metadata": {},
   "source": [
    "- labels follow a Gaussian distribution\n",
    "- weights themselves follow a Gaussian distribution\n",
    "- Weights are estimated same as l2 regression with legrangian as (variance_y/variance_w)\n",
    "- Both the variances are idependent and can be varied accaordingly"
   ]
  },
  {
   "cell_type": "code",
   "execution_count": null,
   "metadata": {},
   "outputs": [],
   "source": []
  }
 ],
 "metadata": {
  "kernelspec": {
   "display_name": "Python 2",
   "language": "python",
   "name": "python2"
  },
  "language_info": {
   "codemirror_mode": {
    "name": "ipython",
    "version": 3
   },
   "file_extension": ".py",
   "mimetype": "text/x-python",
   "name": "python",
   "nbconvert_exporter": "python",
   "pygments_lexer": "ipython3",
   "version": "3.5.2"
  }
 },
 "nbformat": 4,
 "nbformat_minor": 2
}
