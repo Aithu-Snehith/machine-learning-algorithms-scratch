{
 "cells": [
  {
   "cell_type": "code",
   "execution_count": 82,
   "metadata": {},
   "outputs": [],
   "source": [
    "import numpy as np\n",
    "import matplotlib.pyplot as plt"
   ]
  },
  {
   "cell_type": "code",
   "execution_count": 83,
   "metadata": {},
   "outputs": [],
   "source": [
    "poly_order = 4\n",
    "# Number of training samples\n",
    "N = 10\n",
    "# Generate equispaced floats in the interval [0, 2*pi]\n",
    "x_train = np.linspace(0, 2*np.pi, N)\n",
    "# Generate noise\n",
    "mean = 0\n",
    "std = 0.05\n",
    "# Generate some numbers from the sine function\n",
    "y = np.sin(x_train)\n",
    "# Add noise\n",
    "y += np.random.normal(mean, std, N)\n",
    "#defining it as a matrix\n",
    "y_train = np.asmatrix(y.reshape(N,1))"
   ]
  },
  {
   "cell_type": "markdown",
   "metadata": {},
   "source": [
    "# adding the bias and higher order terms to x"
   ]
  },
  {
   "cell_type": "code",
   "execution_count": 84,
   "metadata": {},
   "outputs": [
    {
     "name": "stdout",
     "output_type": "stream",
     "text": [
      "(10, 5)\n",
      "[[1.00000000e+00 0.00000000e+00 0.00000000e+00 0.00000000e+00\n",
      "  0.00000000e+00]\n",
      " [1.00000000e+00 6.98131701e-01 4.87387872e-01 3.40260924e-01\n",
      "  2.37546937e-01]\n",
      " [1.00000000e+00 1.39626340e+00 1.94955149e+00 2.72208739e+00\n",
      "  3.80075100e+00]\n",
      " [1.00000000e+00 2.09439510e+00 4.38649084e+00 9.18704494e+00\n",
      "  1.92413019e+01]\n",
      " [1.00000000e+00 2.79252680e+00 7.79820595e+00 2.17766991e+01\n",
      "  6.08120160e+01]\n",
      " [1.00000000e+00 3.49065850e+00 1.21846968e+01 4.25326155e+01\n",
      "  1.48466836e+02]\n",
      " [1.00000000e+00 4.18879020e+00 1.75459634e+01 7.34963595e+01\n",
      "  3.07860831e+02]\n",
      " [1.00000000e+00 4.88692191e+00 2.38820057e+01 1.16709497e+02\n",
      "  5.70350197e+02]\n",
      " [1.00000000e+00 5.58505361e+00 3.11928238e+01 1.74213593e+02\n",
      "  9.72992256e+02]\n",
      " [1.00000000e+00 6.28318531e+00 3.94784176e+01 2.48050213e+02\n",
      "  1.55854546e+03]]\n"
     ]
    }
   ],
   "source": [
    "x = np.append(np.ones((N,1)),x_train.reshape((N,1)),axis = 1)\n",
    "for i in range(0,poly_order-1):\n",
    "\tx = np.append(x,(x_train.reshape((N,1)))**(i+2),axis = 1)\n",
    "x = np.asmatrix(x)\n",
    "print(x.shape)\n",
    "print(x)"
   ]
  },
  {
   "cell_type": "markdown",
   "metadata": {},
   "source": [
    "# finding the optimum weights"
   ]
  },
  {
   "cell_type": "code",
   "execution_count": 85,
   "metadata": {},
   "outputs": [
    {
     "name": "stdout",
     "output_type": "stream",
     "text": [
      "[[-4.40546409e-02]\n",
      " [ 1.70055240e+00]\n",
      " [-8.22556057e-01]\n",
      " [ 9.21370437e-02]\n",
      " [-5.83638469e-04]]\n"
     ]
    }
   ],
   "source": [
    "w = (x.T*x).I*x.T*y_train\n",
    "print(w)"
   ]
  },
  {
   "cell_type": "markdown",
   "metadata": {},
   "source": [
    "# generating test samples"
   ]
  },
  {
   "cell_type": "code",
   "execution_count": 86,
   "metadata": {},
   "outputs": [
    {
     "name": "stdout",
     "output_type": "stream",
     "text": [
      "(10, 5)\n"
     ]
    }
   ],
   "source": [
    "M = 100\n",
    "x_test = np.linspace(0, 2*np.pi, M)\n",
    "x_t = np.asmatrix(np.append(np.ones((M,1)),x_test.reshape(M,1),axis = 1))\n",
    "for i in range(0,poly_order-1):\n",
    "\tx_t = np.append(x_t,(x_test.reshape((M,1)))**(i+2),axis = 1)\n",
    "x_t = np.asmatrix(x_t)\n",
    "print(x.shape)"
   ]
  },
  {
   "cell_type": "markdown",
   "metadata": {},
   "source": [
    "# predicting the outputs for the test sample"
   ]
  },
  {
   "cell_type": "code",
   "execution_count": 87,
   "metadata": {},
   "outputs": [],
   "source": [
    "y_test = x_t*w"
   ]
  },
  {
   "cell_type": "markdown",
   "metadata": {},
   "source": [
    "# Error ( Cost)"
   ]
  },
  {
   "cell_type": "code",
   "execution_count": 88,
   "metadata": {},
   "outputs": [
    {
     "name": "stdout",
     "output_type": "stream",
     "text": [
      "error:-  [[0.06597847]]\n"
     ]
    }
   ],
   "source": [
    "y_fin = x * w\n",
    "\n",
    "print(\"error:- \",np.asmatrix(y_train-y_fin).T*np.asmatrix(y_train-y_fin))"
   ]
  },
  {
   "cell_type": "markdown",
   "metadata": {},
   "source": [
    "# ploting the results"
   ]
  },
  {
   "cell_type": "code",
   "execution_count": 89,
   "metadata": {},
   "outputs": [
    {
     "data": {
      "image/png": "[encoded data removed]",
      "text/plain": [
       "<Figure size 432x288 with 1 Axes>"
      ]
     },
     "metadata": {},
     "output_type": "display_data"
    }
   ],
   "source": [
    "plt.plot(x_train,y_train,'o',label = 'training data')\n",
    "plt.plot(x_test,y_test,'.',label = 'testing data')\n",
    "plt.legend()\n",
    "plt.grid()\n",
    "plt.title(\"Linear regression using a polynomial basis function.\")\n",
    "plt.show()"
   ]
  },
  {
   "cell_type": "markdown",
   "metadata": {},
   "source": [
    "# Observations"
   ]
  },
  {
   "cell_type": "markdown",
   "metadata": {},
   "source": [
    "- Model is approximated by a polinomial function\n",
    "- Noise is added to the training data labels\n",
    "\n",
    "Polynomial order - Errors (10 training samples)\n",
    "- 9  -> 6.63505983e-06\n",
    "- 10 -> 11.34967298\n",
    "- 4  -> 0.06597847\n",
    "\n",
    "Clearly as the number of parameters crosses the number of training points, the model is performing very poorly"
   ]
  },
  {
   "cell_type": "code",
   "execution_count": null,
   "metadata": {},
   "outputs": [],
   "source": []
  }
 ],
 "metadata": {
  "kernelspec": {
   "display_name": "Python 2",
   "language": "python",
   "name": "python2"
  },
  "language_info": {
   "codemirror_mode": {
    "name": "ipython",
    "version": 3
   },
   "file_extension": ".py",
   "mimetype": "text/x-python",
   "name": "python",
   "nbconvert_exporter": "python",
   "pygments_lexer": "ipython3",
   "version": "3.5.2"
  }
 },
 "nbformat": 4,
 "nbformat_minor": 2
}
