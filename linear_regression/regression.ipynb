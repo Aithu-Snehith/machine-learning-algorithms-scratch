{
 "cells": [
  {
   "cell_type": "code",
   "execution_count": 92,
   "metadata": {},
   "outputs": [],
   "source": [
    "import numpy as np\n",
    "import matplotlib.pyplot as plt"
   ]
  },
  {
   "cell_type": "markdown",
   "metadata": {},
   "source": [
    "# Parameters"
   ]
  },
  {
   "cell_type": "code",
   "execution_count": 93,
   "metadata": {},
   "outputs": [],
   "source": [
    "N = 10              # training samples\n",
    "poly_order = 11      # polynomial order\n",
    "M = 100             # testing samples\n",
    "lagrangian = 0.1   # lambda, regularization parameter"
   ]
  },
  {
   "cell_type": "markdown",
   "metadata": {},
   "source": [
    "# Generating training samples"
   ]
  },
  {
   "cell_type": "code",
   "execution_count": 94,
   "metadata": {},
   "outputs": [],
   "source": [
    "# Generate equispaced floats in the interval [0, 2*pi]\n",
    "x_train = np.linspace(0, 2*np.pi, N)\n",
    "# Generate noise\n",
    "mean = 0\n",
    "std = 0.05\n",
    "# Generate some numbers from the sine function\n",
    "y = np.sin(x_train)\n",
    "# Add noise\n",
    "y += np.random.normal(mean, std, N)\n",
    "#defining it as a matrix\n",
    "y_train = np.asmatrix(y.reshape(N,1))"
   ]
  },
  {
   "cell_type": "markdown",
   "metadata": {},
   "source": [
    "# adding the bias and higher order terms to x"
   ]
  },
  {
   "cell_type": "code",
   "execution_count": 95,
   "metadata": {},
   "outputs": [
    {
     "name": "stdout",
     "output_type": "stream",
     "text": [
      "(10, 11)\n"
     ]
    }
   ],
   "source": [
    "x = x_train.reshape((N,1))\n",
    "for i in range(0,poly_order-1):\n",
    "\tx = np.append(x,(x_train.reshape((N,1)))**(i+2),axis = 1)\n",
    "x = np.asmatrix(x)\n",
    "print(x.shape)\n",
    "# print(x)"
   ]
  },
  {
   "cell_type": "markdown",
   "metadata": {},
   "source": [
    "# finding the optimum weights"
   ]
  },
  {
   "cell_type": "code",
   "execution_count": 96,
   "metadata": {},
   "outputs": [
    {
     "name": "stdout",
     "output_type": "stream",
     "text": [
      "[[ 6.83742250e-01]\n",
      " [ 2.60885020e-01]\n",
      " [-2.50352775e-02]\n",
      " [-1.26902835e-01]\n",
      " [-4.02642829e-02]\n",
      " [ 6.85613670e-02]\n",
      " [-2.62641572e-02]\n",
      " [ 4.84170450e-03]\n",
      " [-4.50640788e-04]\n",
      " [ 1.71990544e-05]\n",
      " [-2.22612517e-08]]\n"
     ]
    }
   ],
   "source": [
    "w = (x.T*x + lagrangian * np.eye(poly_order)).I*x.T*y_train\n",
    "print(w)"
   ]
  },
  {
   "cell_type": "markdown",
   "metadata": {},
   "source": [
    "# generating test samples"
   ]
  },
  {
   "cell_type": "code",
   "execution_count": 97,
   "metadata": {},
   "outputs": [],
   "source": [
    "x_test = np.linspace(0, 2*np.pi, M)\n",
    "x = x_test.reshape(M,1)\n",
    "for i in range(0,poly_order-1):\n",
    "\tx = np.append(x,(x_test.reshape((M,1)))**(i+2),axis = 1)\n",
    "x = np.asmatrix(x)"
   ]
  },
  {
   "cell_type": "markdown",
   "metadata": {},
   "source": [
    "# predicting the outputs for the test sample"
   ]
  },
  {
   "cell_type": "code",
   "execution_count": 98,
   "metadata": {},
   "outputs": [],
   "source": [
    "y_test = x*w"
   ]
  },
  {
   "cell_type": "markdown",
   "metadata": {},
   "source": [
    "# ploting the results"
   ]
  },
  {
   "cell_type": "code",
   "execution_count": 99,
   "metadata": {},
   "outputs": [
    {
     "data": {
      "image/png": "[encoded data removed]",
      "text/plain": [
       "<Figure size 432x288 with 1 Axes>"
      ]
     },
     "metadata": {},
     "output_type": "display_data"
    }
   ],
   "source": [
    "plt.plot(x_train,y_train,'o',label = 'training data')\n",
    "plt.plot(x_test,y_test,'.',label = 'testing data')\n",
    "plt.legend()\n",
    "plt.grid()\n",
    "plt.title(\"Linear regression using a polynomial basis function.\")\n",
    "plt.show()"
   ]
  },
  {
   "cell_type": "markdown",
   "metadata": {},
   "source": [
    "# Observations"
   ]
  },
  {
   "cell_type": "markdown",
   "metadata": {},
   "source": [
    "- Regularisation has been implemented (legrangian multiplier = λ)\n",
    "- Noise is added to the training data labels\n",
    "- Unlike the normal polynomial basis,by adding the regularisation even for the polynomial order of 11, the model is still performance of the model is still good\n",
    "- when the legrangian = 0 , same curve as the Q2, observed\n",
    "- Its observed that the problem of overfit is almost solved for linear regression"
   ]
  },
  {
   "cell_type": "code",
   "execution_count": null,
   "metadata": {},
   "outputs": [],
   "source": []
  }
 ],
 "metadata": {
  "kernelspec": {
   "display_name": "Python 2",
   "language": "python",
   "name": "python2"
  },
  "language_info": {
   "codemirror_mode": {
    "name": "ipython",
    "version": 3
   },
   "file_extension": ".py",
   "mimetype": "text/x-python",
   "name": "python",
   "nbconvert_exporter": "python",
   "pygments_lexer": "ipython3",
   "version": "3.5.2"
  }
 },
 "nbformat": 4,
 "nbformat_minor": 2
}
