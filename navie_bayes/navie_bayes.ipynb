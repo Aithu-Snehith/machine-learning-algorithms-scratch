{
 "cells": [
  {
   "cell_type": "markdown",
   "metadata": {},
   "source": [
    "## Importing packages  "
   ]
  },
  {
   "cell_type": "code",
   "execution_count": 1,
   "metadata": {},
   "outputs": [],
   "source": [
    "import numpy as np"
   ]
  },
  {
   "cell_type": "markdown",
   "metadata": {},
   "source": [
    "## Parameters"
   ]
  },
  {
   "cell_type": "code",
   "execution_count": 2,
   "metadata": {},
   "outputs": [],
   "source": [
    "x_test = [-1,-1]"
   ]
  },
  {
   "cell_type": "markdown",
   "metadata": {},
   "source": [
    "## Loading the dataset"
   ]
  },
  {
   "cell_type": "code",
   "execution_count": 3,
   "metadata": {},
   "outputs": [
    {
     "name": "stdout",
     "output_type": "stream",
     "text": [
      "[[ 1.67705596 -0.91408325]\n",
      " [-1.91652611 -1.30496213]\n",
      " [ 1.65105414 -1.08038307]\n",
      " ...\n",
      " [-1.02465078  0.25885031]\n",
      " [ 0.730965    0.54656083]\n",
      " [ 1.51459784  0.7214577 ]]\n"
     ]
    }
   ],
   "source": [
    "x_train = np.transpose(np.genfromtxt('X.csv',delimiter=','))    # Loading training dataset\n",
    "y_train = np.genfromtxt('Y.csv',delimiter=',')                  #loading the correspoding labels\n",
    "print(x_train)"
   ]
  },
  {
   "cell_type": "markdown",
   "metadata": {},
   "source": [
    "## Sperating the training set based on the labels "
   ]
  },
  {
   "cell_type": "code",
   "execution_count": 4,
   "metadata": {},
   "outputs": [
    {
     "name": "stdout",
     "output_type": "stream",
     "text": [
      "(493, 2)\n",
      "(507, 2)\n"
     ]
    }
   ],
   "source": [
    "x_train_1 = []\n",
    "x_train_0 = []\n",
    "for i in range(0,1000):\n",
    "    if y_train[i] == 1:\n",
    "        x_train_1.append(x_train[i])     # appending into new array for labels = 1\n",
    "    else:\n",
    "        x_train_0.append(x_train[i])     # appending into new array for labels = -1\n",
    "x_train_1 = np.asarray(x_train_1)        #converting the lists to arrays\n",
    "x_train_0 = np.asarray(x_train_0)\n",
    "print(x_train_1.shape)\n",
    "print(x_train_0.shape)"
   ]
  },
  {
   "cell_type": "markdown",
   "metadata": {},
   "source": [
    "## Fitting the distributions(finding mean and variances)"
   ]
  },
  {
   "cell_type": "code",
   "execution_count": 5,
   "metadata": {},
   "outputs": [
    {
     "name": "stdout",
     "output_type": "stream",
     "text": [
      "[0.83139867 0.05820254]\n",
      "[-0.81491941 -0.03831222]\n",
      "[0.3699126  0.93099005]\n",
      "[0.36732626 0.967272  ]\n"
     ]
    }
   ],
   "source": [
    "mean_1 = np.mean(x_train_1,axis = 0)\n",
    "mean_0 = np.mean(x_train_0,axis = 0)\n",
    "print(mean_1)\n",
    "print(mean_0)\n",
    "\n",
    "var_1 = np.var(x_train_1,axis = 0)\n",
    "var_0 = np.var(x_train_0,axis = 0)\n",
    "print(var_1)\n",
    "print(var_0)"
   ]
  },
  {
   "cell_type": "markdown",
   "metadata": {},
   "source": [
    "# Testing"
   ]
  },
  {
   "cell_type": "markdown",
   "metadata": {},
   "source": [
    "### Finding the probabilities"
   ]
  },
  {
   "cell_type": "code",
   "execution_count": 6,
   "metadata": {},
   "outputs": [
    {
     "name": "stdout",
     "output_type": "stream",
     "text": [
      "[0.00704649 0.22659658]\n",
      "[0.62825235 0.25148582]\n"
     ]
    }
   ],
   "source": [
    "p_1 = np.exp(-((x_test-mean_1)**2)/(2*var_1))/np.sqrt(2*np.pi*var_1)\n",
    "p_0 = np.exp(-((x_test-mean_0)**2)/(2*var_0))/np.sqrt(2*np.pi*var_0)\n",
    "\n",
    "print(p_1)\n",
    "print(p_0)"
   ]
  },
  {
   "cell_type": "markdown",
   "metadata": {},
   "source": [
    "## Estimating the label"
   ]
  },
  {
   "cell_type": "code",
   "execution_count": 7,
   "metadata": {},
   "outputs": [
    {
     "name": "stdout",
     "output_type": "stream",
     "text": [
      "label =  -1\n"
     ]
    }
   ],
   "source": [
    "if np.prod(p_1)*(x_train_1.shape[0]/1000) > np.prod(p_0)*(x_train_0.shape[0]/1000):\n",
    "    print(\"label = \",1)\n",
    "else:\n",
    "    print(\"label = \",-1)"
   ]
  },
  {
   "cell_type": "markdown",
   "metadata": {},
   "source": [
    "# Observations"
   ]
  },
  {
   "cell_type": "markdown",
   "metadata": {},
   "source": [
    "- Navie bayes classifier has been implemented\n",
    "- The training set(each dimension) is assumed to be guassian\n",
    "\n",
    "The predictions on the test data given is as follows:\n",
    "- for [1,-1] the estimated label is \"1\"\n",
    "- for [1,1] the estimated label is \"1\"\n",
    "- for [-1,-1] the estimated label is \"-1\"\n",
    "- for [-1,1] the estimated label is \"-1\""
   ]
  }
 ],
 "metadata": {
  "kernelspec": {
   "display_name": "Python 2",
   "language": "python",
   "name": "python2"
  },
  "language_info": {
   "codemirror_mode": {
    "name": "ipython",
    "version": 3
   },
   "file_extension": ".py",
   "mimetype": "text/x-python",
   "name": "python",
   "nbconvert_exporter": "python",
   "pygments_lexer": "ipython3",
   "version": "3.5.2"
  }
 },
 "nbformat": 4,
 "nbformat_minor": 2
}
