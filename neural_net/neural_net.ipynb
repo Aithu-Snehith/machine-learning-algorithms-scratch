{
 "cells": [
  {
   "cell_type": "markdown",
   "metadata": {},
   "source": [
    "# Importing the packages"
   ]
  },
  {
   "cell_type": "code",
   "execution_count": 1,
   "metadata": {},
   "outputs": [],
   "source": [
    "import numpy as np\n",
    "import matplotlib.pyplot as plt"
   ]
  },
  {
   "cell_type": "markdown",
   "metadata": {},
   "source": [
    "# Parameters"
   ]
  },
  {
   "cell_type": "code",
   "execution_count": 2,
   "metadata": {},
   "outputs": [],
   "source": [
    "input_dim = 2\n",
    "hidden_nodes = 10\n",
    "lr = 1e-3\n",
    "epochs = 10000\n",
    "training_samples = 1000\n",
    "out_dim = 1"
   ]
  },
  {
   "cell_type": "markdown",
   "metadata": {},
   "source": [
    "# Declaring functions"
   ]
  },
  {
   "cell_type": "code",
   "execution_count": 3,
   "metadata": {},
   "outputs": [],
   "source": [
    "# Sigmoid\n",
    "\n",
    "def sigmoid(x):\n",
    "    return 1/(1 + np.exp(-x))\n",
    "\n",
    "#derivative of sigmoid\n",
    "def deriv_sigmoid(x):\n",
    "    return np.exp(-x)/((1+ np.multiply(np.exp(-x),np.exp(-x))))\n",
    "\n",
    "# softmax\n",
    "\n",
    "def softmax(x):\n",
    "    out = np.zeros(x.shape)\n",
    "    for i in range(0,x.shape[0]):\n",
    "        for j in range(0,x.shape[1]):\n",
    "            out[i,j] = np.exp(x[i,j])/np.sum(np.exp(x[i]))\n",
    "    return out\n",
    "\n",
    "# sum of Squared error\n",
    "\n",
    "def squared_error(y_train, y_predicted):\n",
    "    return np.sum(np.multiply(y_train - y_predicted , y_train - y_predicted))"
   ]
  },
  {
   "cell_type": "code",
   "execution_count": 4,
   "metadata": {},
   "outputs": [],
   "source": [
    "## fitting the model\n",
    "\n",
    "def net_fit(x_train , y_train , epochs = 100 , hidden_nodes = 2 , lr = 1e-3):\n",
    "    input_dim = x_train.shape[1]\n",
    "    training_samples = x_train.shape[0]\n",
    "    output_dim = y_train.shape[1]\n",
    "    costs = []\n",
    "    x_train = np.hstack((np.ones((training_samples , 1)), x_train))\n",
    "    #initializig the parameters\n",
    "    alpha = np.asmatrix(np.random.rand(input_dim + 1 , hidden_nodes))\n",
    "    beta = np.asmatrix(np.random.rand(hidden_nodes+1 , out_dim))\n",
    "    \n",
    "    #looping for number of itretions\n",
    "    for epoch in range(0,epochs):\n",
    "        #finding z matrix\n",
    "        z_raw = x_train * alpha \n",
    "        z = sigmoid(z_raw)\n",
    "        z_biased = np.asmatrix(np.hstack((np.ones((training_samples,1)),z)))\n",
    "        \n",
    "        #finding y matrix\n",
    "        y_raw = z_biased * beta\n",
    "        y_predicted = sigmoid(y_raw)\n",
    "        \n",
    "        ##finding the cost\n",
    "        cost = squared_error(y_train , y_predicted)\n",
    "        costs.append(cost)\n",
    "        \n",
    "        #finding gradient w.r.t beta\n",
    "        delta = np.multiply((y_predicted - y_train), deriv_sigmoid(y_raw))\n",
    "        d_beta = np.zeros(beta.shape)\n",
    "        for i in range(0,d_beta.shape[0]):\n",
    "            for j in range(0,d_beta.shape[1]):\n",
    "                d_beta[i,j] = np.sum(np.multiply(delta[:,j],z_biased[:,i]))\n",
    "        \n",
    "        temp_beta = beta[1:,:]\n",
    "        \n",
    "        #finding gradient w.r.t alpha\n",
    "        ss = np.multiply((delta * temp_beta.T),deriv_sigmoid(z_raw))\n",
    "        d_alpha = np.zeros(alpha.shape)\n",
    "        for i in range(0,d_alpha.shape[0]):\n",
    "            for j in range(0,d_alpha.shape[1]):\n",
    "                d_alpha[i,j] = np.sum(np.multiply(ss[:,j],x_train[:,i]))\n",
    "        \n",
    "        #updating the weights\n",
    "        beta = beta - lr * d_beta\n",
    "        alpha = alpha - lr*d_alpha\n",
    "#         print(\"\\n\\nEpoch: \" + str(epoch+1) + \"   cost : \" + str(cost))\n",
    "    return alpha , beta , costs"
   ]
  },
  {
   "cell_type": "code",
   "execution_count": 5,
   "metadata": {},
   "outputs": [],
   "source": [
    "#prediction\n",
    "\n",
    "def net_predict(x_test , alpha , beta ):\n",
    "    testing_samples = x_test.shape[0]\n",
    "    #adding bias\n",
    "    x_test = np.hstack((np.ones((testing_samples , 1)), x_test))\n",
    "    \n",
    "    #finding z matrix\n",
    "    z_raw = x_test * alpha\n",
    "    z = sigmoid(z_raw)\n",
    "    z_biased = np.asmatrix(np.hstack((np.ones((testing_samples,1)),z)))\n",
    "    \n",
    "    #finding Y matrix (predicting the outputs)\n",
    "    y_raw = z_biased * beta\n",
    "    y_predicted = sigmoid(y_raw)\n",
    "    y_predicted = np.round(y_predicted)   ##comment it if solving for regression\n",
    "    return y_predicted"
   ]
  },
  {
   "cell_type": "markdown",
   "metadata": {},
   "source": [
    "# Generating training data"
   ]
  },
  {
   "cell_type": "code",
   "execution_count": 6,
   "metadata": {},
   "outputs": [
    {
     "name": "stdout",
     "output_type": "stream",
     "text": [
      "(1000, 2)\n",
      "(1000, 1) (1000, 1) (1000, 1)\n"
     ]
    }
   ],
   "source": [
    "variance = 0.1\n",
    "n = int(training_samples/2**input_dim)\n",
    "x_00 = np.hstack((np.random.normal(0,variance,(n,1)) , np.random.normal(0,variance,(n,1)) ))\n",
    "x_01 = np.hstack((np.random.normal(0,variance,(n,1)) , np.random.normal(1,variance,(n,1)) ))\n",
    "x_10 = np.hstack((np.random.normal(1,variance,(n,1)) , np.random.normal(0,variance,(n,1)) ))\n",
    "x_11 = np.hstack((np.random.normal(1,variance,(n,1)) , np.random.normal(1,variance,(n,1)) ))\n",
    "x_Train = np.asmatrix(np.concatenate((x_00,x_01,x_10,x_11)))\n",
    "print(x_Train.shape)\n",
    "# y_train = np.asmatrix(np.append(np.zeros((3*n,1)),np.ones((n,1)))).T\n",
    "y_train_and = np.asmatrix(np.append(np.zeros((3*n,1)),np.ones((n,1)))).T\n",
    "y_train_or = np.asmatrix(np.append(np.zeros((n,1)),np.ones((3*n,1)))).T\n",
    "y_train_xor = np.asmatrix(np.concatenate((np.zeros((n,1)),np.ones((2*n,1)),(np.zeros((n,1))))))\n",
    "\n",
    "### Trying to solve classification problem , so commenting the below noise\n",
    "# y_train_and += np.random.normal(1,variance,(4*n,1))\n",
    "# y_train_or += np.random.normal(1,variance,(4*n,1))\n",
    "# y_train_xor += np.random.normal(1,variance,(4*n,1))\n",
    "print(y_train_and.shape , y_train_or.shape , y_train_xor.shape)"
   ]
  },
  {
   "cell_type": "markdown",
   "metadata": {},
   "source": [
    "# Training the Model"
   ]
  },
  {
   "cell_type": "markdown",
   "metadata": {},
   "source": [
    "## And Gate"
   ]
  },
  {
   "cell_type": "markdown",
   "metadata": {},
   "source": [
    "### training"
   ]
  },
  {
   "cell_type": "code",
   "execution_count": 7,
   "metadata": {},
   "outputs": [
    {
     "name": "stdout",
     "output_type": "stream",
     "text": [
      "\n",
      "alpha:\n",
      " [[-3.51307423 -4.63465242  1.22520601  0.7982468  -0.24351985  0.66671741\n",
      "   2.83871054 -2.69294093  4.25837015  0.11330976]\n",
      " [ 2.40884505  3.19422337  0.85820346  0.77768616  0.78663338 -0.89653705\n",
      "  -1.93309024  2.09334228 -2.9443485   1.07293019]\n",
      " [ 2.41639271  3.09642561  0.48413305  0.69610432  0.64122463 -0.50088637\n",
      "  -2.03072593  1.68855293 -2.85099551  0.22973448]] \n",
      "beta:\n",
      " [[-2.06287244]\n",
      " [ 3.51790811]\n",
      " [ 4.86943312]\n",
      " [-0.39416143]\n",
      " [-0.09943295]\n",
      " [ 0.65310177]\n",
      " [-1.09686714]\n",
      " [-3.2592442 ]\n",
      " [ 2.73540354]\n",
      " [-4.90146692]\n",
      " [ 0.47527758]] \n",
      " \n",
      "loss:\n",
      " 0.43016720873004366\n"
     ]
    }
   ],
   "source": [
    "alpha , beta , losses = net_fit(x_Train , y_train_and , hidden_nodes = hidden_nodes , epochs = epochs ,lr = lr)\n",
    "print(\"\\nalpha:\\n\",alpha ,\"\\nbeta:\\n\", beta,\"\\n\" ,\"\\nloss:\\n\", losses[9999])"
   ]
  },
  {
   "cell_type": "markdown",
   "metadata": {},
   "source": [
    "### Predicting"
   ]
  },
  {
   "cell_type": "code",
   "execution_count": 8,
   "metadata": {
    "scrolled": true
   },
   "outputs": [
    {
     "name": "stdout",
     "output_type": "stream",
     "text": [
      "(4, 2)\n",
      "[[0.]\n",
      " [0.]\n",
      " [0.]\n",
      " [1.]]\n"
     ]
    },
    {
     "data": {
      "image/png": "[encoded data removed]",
      "text/plain": [
       "<Figure size 432x288 with 1 Axes>"
      ]
     },
     "metadata": {},
     "output_type": "display_data"
    }
   ],
   "source": [
    "#testing samples\n",
    "x_test = np.matrix([[0,0],[0,1],[1,0],[1,1]])\n",
    "print(x_test.shape)\n",
    "#predicting the output\n",
    "res = net_predict(x_test , alpha , beta)\n",
    "print(res)\n",
    "# print(losses.shape)\n",
    "#ploting the cost vs epochs\n",
    "plt.plot(np.arange(epochs),losses)\n",
    "plt.title(\"training samples: \" + str(training_samples))\n",
    "plt.xlabel(\"epochs\")\n",
    "plt.ylabel(\"cost\")\n",
    "plt.show()"
   ]
  },
  {
   "cell_type": "markdown",
   "metadata": {},
   "source": [
    "## Xor Gate"
   ]
  },
  {
   "cell_type": "markdown",
   "metadata": {},
   "source": [
    "### training"
   ]
  },
  {
   "cell_type": "code",
   "execution_count": 9,
   "metadata": {},
   "outputs": [
    {
     "name": "stdout",
     "output_type": "stream",
     "text": [
      "\n",
      "alpha:\n",
      " [[-3.71883113  1.11747416  0.7002032   1.01022159  0.28228737 -2.09510014\n",
      "   0.47747518  1.32104959  1.34809111  0.62993386]\n",
      " [ 2.58457781  0.88917357  2.22633808  5.24818766 -1.80649148  5.44323584\n",
      "   4.98511908  1.11036849 -4.31150943  2.12772933]\n",
      " [ 2.44675438  1.13997084  2.21535201 -3.37590706  3.73155728  5.32201025\n",
      "  -2.65333072  1.13761712  6.36057377  2.10873965]] \n",
      "beta:\n",
      " [[ 1.74473387]\n",
      " [-3.48457082]\n",
      " [ 0.94442015]\n",
      " [ 2.46592664]\n",
      " [-4.50142825]\n",
      " [-2.20006634]\n",
      " [ 6.66347943]\n",
      " [-4.10288441]\n",
      " [ 1.28602994]\n",
      " [-6.36196538]\n",
      " [ 2.00915264]] \n",
      " \n",
      "loss:\n",
      " 0.43016720873004366\n"
     ]
    }
   ],
   "source": [
    "alpha , beta , loss = net_fit(x_Train , y_train_xor , hidden_nodes = hidden_nodes , epochs = epochs ,lr = lr)\n",
    "print(\"\\nalpha:\\n\",alpha ,\"\\nbeta:\\n\", beta,\"\\n\",\"\\nloss:\\n\", losses[9999])"
   ]
  },
  {
   "cell_type": "markdown",
   "metadata": {},
   "source": [
    "### Predicting"
   ]
  },
  {
   "cell_type": "code",
   "execution_count": 10,
   "metadata": {
    "scrolled": true
   },
   "outputs": [
    {
     "name": "stdout",
     "output_type": "stream",
     "text": [
      "(4, 2)\n",
      "[[0.]\n",
      " [1.]\n",
      " [1.]\n",
      " [0.]]\n"
     ]
    },
    {
     "data": {
      "image/png": "[encoded data removed]",
      "text/plain": [
       "<Figure size 432x288 with 1 Axes>"
      ]
     },
     "metadata": {},
     "output_type": "display_data"
    }
   ],
   "source": [
    "#testing samples\n",
    "x_test = np.matrix([[0,0],[0,1],[1,0],[1,1]])\n",
    "print(x_test.shape)\n",
    "#predicting the output\n",
    "res = net_predict(x_test , alpha , beta)\n",
    "print(res)\n",
    "# print(losses.shape)\n",
    "#ploting the cost vs epochs\n",
    "plt.plot(np.arange(epochs),losses)\n",
    "plt.title(\"training samples: \" + str(training_samples))\n",
    "plt.xlabel(\"epochs\")\n",
    "plt.ylabel(\"cost\")\n",
    "plt.show()"
   ]
  },
  {
   "cell_type": "markdown",
   "metadata": {},
   "source": [
    "## Or Gate"
   ]
  },
  {
   "cell_type": "markdown",
   "metadata": {},
   "source": [
    "### training"
   ]
  },
  {
   "cell_type": "code",
   "execution_count": 11,
   "metadata": {},
   "outputs": [
    {
     "name": "stdout",
     "output_type": "stream",
     "text": [
      "\n",
      "alpha:\n",
      " [[-0.95879603  1.57479491 -0.5788973   1.31012256 -1.20093351 -1.77966034\n",
      "  -1.9263469   0.20634353  0.76336794 -0.89312721]\n",
      " [ 1.97566829 -3.12739594  1.30861684  0.37082782  2.34635004  3.51479808\n",
      "   3.82449813  0.86993224 -0.92118877  1.88387417]\n",
      " [ 1.70968809 -2.95769162  1.33462911 -0.15729169  2.27549665  3.37310516\n",
      "   3.64227276  0.58380744 -1.30389912  1.59391367]] \n",
      "beta:\n",
      " [[-2.84438748]\n",
      " [ 1.54861331]\n",
      " [-4.04636704]\n",
      " [ 0.96232151]\n",
      " [-0.97758311]\n",
      " [ 2.15904539]\n",
      " [ 3.62615009]\n",
      " [ 4.08981376]\n",
      " [ 0.11290452]\n",
      " [-1.74823723]\n",
      " [ 1.41020165]] \n",
      " \n",
      "loss:\n",
      " 0.43016720873004366\n"
     ]
    }
   ],
   "source": [
    "alpha , beta , loss = net_fit(x_Train , y_train_or , hidden_nodes = hidden_nodes , epochs = epochs ,lr = lr)\n",
    "print(\"\\nalpha:\\n\",alpha ,\"\\nbeta:\\n\", beta,\"\\n\",\"\\nloss:\\n\", losses[9999])"
   ]
  },
  {
   "cell_type": "markdown",
   "metadata": {},
   "source": [
    "### Predicting"
   ]
  },
  {
   "cell_type": "code",
   "execution_count": 12,
   "metadata": {
    "scrolled": true
   },
   "outputs": [
    {
     "name": "stdout",
     "output_type": "stream",
     "text": [
      "(4, 2)\n",
      "[[0.]\n",
      " [1.]\n",
      " [1.]\n",
      " [1.]]\n"
     ]
    },
    {
     "data": {
      "image/png": "[encoded data removed]",
      "text/plain": [
       "<Figure size 432x288 with 1 Axes>"
      ]
     },
     "metadata": {},
     "output_type": "display_data"
    }
   ],
   "source": [
    "#testing samples\n",
    "x_test = np.matrix([[0,0],[0,1],[1,0],[1,1]])\n",
    "print(x_test.shape)\n",
    "#predicting the output\n",
    "res = net_predict(x_test , alpha , beta)\n",
    "print(res)\n",
    "# print(losses.shape)\n",
    "#ploting the cost vs epochs\n",
    "plt.plot(np.arange(epochs),losses)\n",
    "plt.title(\"training samples: \" + str(training_samples))\n",
    "plt.xlabel(\"epochs\")\n",
    "plt.ylabel(\"cost\")\n",
    "plt.show()"
   ]
  }
 ],
 "metadata": {
  "kernelspec": {
   "display_name": "Python 2",
   "language": "python",
   "name": "python2"
  },
  "language_info": {
   "codemirror_mode": {
    "name": "ipython",
    "version": 3
   },
   "file_extension": ".py",
   "mimetype": "text/x-python",
   "name": "python",
   "nbconvert_exporter": "python",
   "pygments_lexer": "ipython3",
   "version": "3.5.2"
  }
 },
 "nbformat": 4,
 "nbformat_minor": 2
}
