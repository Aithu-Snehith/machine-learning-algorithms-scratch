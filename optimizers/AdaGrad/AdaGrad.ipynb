{
 "cells": [
  {
   "cell_type": "code",
   "execution_count": 1,
   "metadata": {},
   "outputs": [
    {
     "name": "stdout",
     "output_type": "stream",
     "text": [
      ".. _iris_dataset:\n",
      "\n",
      "Iris plants dataset\n",
      "--------------------\n",
      "\n",
      "**Data Set Characteristics:**\n",
      "\n",
      "    :Number of Instances: 150 (50 in each of three classes)\n",
      "    :Number of Attributes: 4 numeric, predictive attributes and the class\n",
      "    :Attribute Information:\n",
      "        - sepal length in cm\n",
      "        - sepal width in cm\n",
      "        - petal length in cm\n",
      "        - petal width in cm\n",
      "        - class:\n",
      "                - Iris-Setosa\n",
      "                - Iris-Versicolour\n",
      "                - Iris-Virginica\n",
      "                \n",
      "    :Summary Statistics:\n",
      "\n",
      "    ============== ==== ==== ======= ===== ====================\n",
      "                    Min  Max   Mean    SD   Class Correlation\n",
      "    ============== ==== ==== ======= ===== ====================\n",
      "    sepal length:   4.3  7.9   5.84   0.83    0.7826\n",
      "    sepal width:    2.0  4.4   3.05   0.43   -0.4194\n",
      "    petal length:   1.0  6.9   3.76   1.76    0.9490  (high!)\n",
      "    petal width:    0.1  2.5   1.20   0.76    0.9565  (high!)\n",
      "    ============== ==== ==== ======= ===== ====================\n",
      "\n",
      "    :Missing Attribute Values: None\n",
      "    :Class Distribution: 33.3% for each of 3 classes.\n",
      "    :Creator: R.A. Fisher\n",
      "    :Donor: Michael Marshall (MARSHALL%PLU@io.arc.nasa.gov)\n",
      "    :Date: July, 1988\n",
      "\n",
      "The famous Iris database, first used by Sir R.A. Fisher. The dataset is taken\n",
      "from Fisher's paper. Note that it's the same as in R, but not as in the UCI\n",
      "Machine Learning Repository, which has two wrong data points.\n",
      "\n",
      "This is perhaps the best known database to be found in the\n",
      "pattern recognition literature.  Fisher's paper is a classic in the field and\n",
      "is referenced frequently to this day.  (See Duda & Hart, for example.)  The\n",
      "data set contains 3 classes of 50 instances each, where each class refers to a\n",
      "type of iris plant.  One class is linearly separable from the other 2; the\n",
      "latter are NOT linearly separable from each other.\n",
      "\n",
      ".. topic:: References\n",
      "\n",
      "   - Fisher, R.A. \"The use of multiple measurements in taxonomic problems\"\n",
      "     Annual Eugenics, 7, Part II, 179-188 (1936); also in \"Contributions to\n",
      "     Mathematical Statistics\" (John Wiley, NY, 1950).\n",
      "   - Duda, R.O., & Hart, P.E. (1973) Pattern Classification and Scene Analysis.\n",
      "     (Q327.D83) John Wiley & Sons.  ISBN 0-471-22361-1.  See page 218.\n",
      "   - Dasarathy, B.V. (1980) \"Nosing Around the Neighborhood: A New System\n",
      "     Structure and Classification Rule for Recognition in Partially Exposed\n",
      "     Environments\".  IEEE Transactions on Pattern Analysis and Machine\n",
      "     Intelligence, Vol. PAMI-2, No. 1, 67-71.\n",
      "   - Gates, G.W. (1972) \"The Reduced Nearest Neighbor Rule\".  IEEE Transactions\n",
      "     on Information Theory, May 1972, 431-433.\n",
      "   - See also: 1988 MLC Proceedings, 54-64.  Cheeseman et al\"s AUTOCLASS II\n",
      "     conceptual clustering system finds 3 classes in the data.\n",
      "   - Many, many more ...\n"
     ]
    }
   ],
   "source": [
    "import numpy as np\n",
    "from sklearn.datasets import load_iris\n",
    "import matplotlib.pyplot as plt\n",
    "from sklearn.model_selection import train_test_split\n",
    "\n",
    "iris = load_iris()\n",
    "print(iris.DESCR)"
   ]
  },
  {
   "cell_type": "markdown",
   "metadata": {},
   "source": [
    "## Loading Data "
   ]
  },
  {
   "cell_type": "code",
   "execution_count": 2,
   "metadata": {
    "scrolled": true
   },
   "outputs": [
    {
     "name": "stdout",
     "output_type": "stream",
     "text": [
      "(150, 4) (150, 3)\n",
      "(120, 4) (30, 4) (120, 3) (30, 3)\n"
     ]
    }
   ],
   "source": [
    "x = iris.data\n",
    "\n",
    "label = iris.target\n",
    "\n",
    "y = np.zeros(label.shape + (3,))\n",
    "y[np.arange(label.shape[0]),label] = 1\n",
    "\n",
    "print x.shape, y.shape\n",
    "\n",
    "\n",
    "x_train, x_test, y_train, y_test = train_test_split(x, y, test_size=0.2)\n",
    "\n",
    "print x_train.shape, x_test.shape, y_train.shape, y_test.shape"
   ]
  },
  {
   "cell_type": "markdown",
   "metadata": {},
   "source": [
    "## Activation Functions"
   ]
  },
  {
   "cell_type": "code",
   "execution_count": 3,
   "metadata": {},
   "outputs": [],
   "source": [
    "def sigmoid(x):\n",
    "    return 1/(1 + np.exp(-x))\n",
    "\n",
    "def relu(x):\n",
    "    x[x < 0] = 0\n",
    "    return x\n",
    "\n",
    "def tanh(x):\n",
    "    return np.tanh(x)\n",
    "\n",
    "def softmax(x):\n",
    "    return np.exp(x) / np.sum(np.exp(x))\n",
    "\n",
    "def deriv(x, activation = 'relu'):\n",
    "    if(activation == 'relu'):\n",
    "        x[x > 0] = 1\n",
    "        x[x < 0] = 0\n",
    "        return x"
   ]
  },
  {
   "cell_type": "markdown",
   "metadata": {},
   "source": [
    "## Function to Initialize Weights"
   ]
  },
  {
   "cell_type": "code",
   "execution_count": 4,
   "metadata": {},
   "outputs": [],
   "source": [
    "def xavier_initializer(fan_in,fan_out):\n",
    "    return np.random.normal(0,np.sqrt(2*1.0/(fan_in+fan_out)),(fan_out,fan_in+1))"
   ]
  },
  {
   "cell_type": "markdown",
   "metadata": {},
   "source": [
    "## Compute the Output shapes of each layer"
   ]
  },
  {
   "cell_type": "code",
   "execution_count": 5,
   "metadata": {},
   "outputs": [],
   "source": [
    "def get_model(feed_dict):\n",
    "    feed_dict['input_shape'] = feed_dict['train_input'].shape[1:]\n",
    "    inp_shape = feed_dict['input_shape']\n",
    "    feed_dict['output'] = []\n",
    "    layers = feed_dict['layers']\n",
    "    \n",
    "    for i in range(len(layers)):\n",
    "        output_shape = (layers[i]['nodes'],1)\n",
    "        out_dict = {'layer_number': i , 'type': 'fc', 'output_shape': output_shape}\n",
    "        feed_dict['output'].append(out_dict)\n",
    "        inp_shape = output_shape\n",
    "    return feed_dict"
   ]
  },
  {
   "cell_type": "markdown",
   "metadata": {},
   "source": [
    "## Fully Connected layer"
   ]
  },
  {
   "cell_type": "code",
   "execution_count": 6,
   "metadata": {},
   "outputs": [],
   "source": [
    "def fully_connected(inp, weights,  nodes, activation):\n",
    "    inp = np.asarray(inp).reshape(len(inp),1)\n",
    "    inp = np.vstack((np.array(inp),1))\n",
    "    #initiazing weights\n",
    "#     weights = np.asmatrix(np.random.rand(nodes, len(inp)))\n",
    "    output_raw = np.matmul(weights, inp)\n",
    "    #normalizing the output to ensure no overflow in exp\n",
    "#     print np.max(output_raw)\n",
    "    output_raw = output_raw \n",
    "    #applying activation function\n",
    "    if(activation == 'sigmoid'):\n",
    "        output = sigmoid(output_raw)\n",
    "    elif(activation == 'relu'):\n",
    "        output = relu(output_raw)\n",
    "    elif(activation == 'tanh'):\n",
    "        output = tanh(output_raw)\n",
    "    elif(activation == 'softmax'):\n",
    "        output = softmax(output_raw)\n",
    "    else:\n",
    "        output = output_raw\n",
    "    #making the output vector as column matrix\n",
    "    if(output.shape[0] == 1):\n",
    "        output = np.moveaxis(output, 0,1)\n",
    "        output_raw = np.moveaxis(output_raw, 0,1)\n",
    "    return output, output_raw"
   ]
  },
  {
   "cell_type": "markdown",
   "metadata": {},
   "source": [
    "## Defining the model"
   ]
  },
  {
   "cell_type": "code",
   "execution_count": 7,
   "metadata": {},
   "outputs": [],
   "source": [
    "feed_dict = {}\n",
    "feed_dict['train_input'] = x_train\n",
    "feed_dict['train_label'] = y_train\n",
    "feed_dict['test_input'] = x_test\n",
    "feed_dict['test_label'] = y_test\n",
    "feed_dict['const_delta'] = 1e-9\n",
    "feed_dict['learning_rate_epsilon'] = 1e-2\n",
    "feed_dict['epochs'] = 2000\n",
    "feed_dict['batch_size'] = 5\n",
    "feed_dict['layers'] = [{'type': 'fc',  'nodes': 10, 'activation' : 'relu'},\n",
    "                       {'type': 'fc',  'nodes': 10, 'activation' : 'relu'},\n",
    "                       {'type': 'fc',  'nodes': 3, 'activation' : 'softmax'}]"
   ]
  },
  {
   "cell_type": "markdown",
   "metadata": {},
   "source": [
    "## Computing the outputs and initializng the weights"
   ]
  },
  {
   "cell_type": "code",
   "execution_count": 8,
   "metadata": {
    "scrolled": true
   },
   "outputs": [
    {
     "name": "stdout",
     "output_type": "stream",
     "text": [
      "output shapes:\n",
      "fc0 :  (10, 1)\n",
      "fc1 :  (10, 1)\n",
      "fc2 :  (3, 1)\n",
      "\n",
      "\n",
      "weight matrices shapes (with biases):\n",
      "fc0 (10, 5)\n",
      "fc1 (10, 11)\n",
      "fc2 (3, 11)\n"
     ]
    }
   ],
   "source": [
    "feed_dict = get_model(feed_dict)\n",
    "\n",
    "print 'output shapes:'\n",
    "for i in range(len(feed_dict['layers'])):\n",
    "    print feed_dict['layers'][i]['type']+str(i) , ': ', feed_dict['output'][i]['output_shape']\n",
    "\n",
    "print(\"\\n\")\n",
    "\n",
    "feed_dict['output'][0]['weights'] = xavier_initializer(feed_dict['input_shape'][0], feed_dict['layers'][0]['nodes'])\n",
    "feed_dict['output'][1]['weights'] = xavier_initializer(feed_dict['output'][0]['output_shape'][0], feed_dict['layers'][1]['nodes'])\n",
    "feed_dict['output'][2]['weights'] = xavier_initializer(feed_dict['output'][1]['output_shape'][0], feed_dict['layers'][2]['nodes'])\n",
    "\n",
    "print 'weight matrices shapes (with biases):'\n",
    "print feed_dict['layers'][0]['type']+str(0),feed_dict['output'][0]['weights'].shape\n",
    "print feed_dict['layers'][1]['type']+str(1),feed_dict['output'][1]['weights'].shape\n",
    "print feed_dict['layers'][2]['type']+str(2),feed_dict['output'][2]['weights'].shape"
   ]
  },
  {
   "cell_type": "code",
   "execution_count": 9,
   "metadata": {},
   "outputs": [],
   "source": [
    "epochs = feed_dict['epochs']\n",
    "no_samples = len(x_train)\n",
    "batch_size = feed_dict['batch_size']\n",
    "no_batches = no_samples/batch_size"
   ]
  },
  {
   "cell_type": "code",
   "execution_count": 10,
   "metadata": {},
   "outputs": [
    {
     "name": "stdout",
     "output_type": "stream",
     "text": [
      "(4, 5, 6)\n"
     ]
    }
   ],
   "source": [
    "tpp = [np.random.rand(3,3), np.random.rand(4,5,6), np.random.rand(5,8,7,6,5)]\n",
    "print tpp[1].shape"
   ]
  },
  {
   "cell_type": "code",
   "execution_count": 11,
   "metadata": {},
   "outputs": [
    {
     "name": "stdout",
     "output_type": "stream",
     "text": [
      "Epoch: 50 Loss: [0.29715023]\n",
      "Epoch: 100 Loss: [0.21061697]\n",
      "Epoch: 150 Loss: [0.16604365]\n",
      "Epoch: 200 Loss: [0.14082759]\n",
      "Epoch: 250 Loss: [0.12373317]\n",
      "Epoch: 300 Loss: [0.11193395]\n",
      "Epoch: 350 Loss: [0.10318543]\n",
      "Epoch: 400 Loss: [0.0972053]\n",
      "Epoch: 450 Loss: [0.09170451]\n",
      "Epoch: 500 Loss: [0.08767076]\n",
      "Epoch: 550 Loss: [0.08440788]\n",
      "Epoch: 600 Loss: [0.08149092]\n",
      "Epoch: 650 Loss: [0.07945476]\n",
      "Epoch: 700 Loss: [0.07734208]\n",
      "Epoch: 750 Loss: [0.075596]\n",
      "Epoch: 800 Loss: [0.07348305]\n",
      "Epoch: 850 Loss: [0.07224495]\n",
      "Epoch: 900 Loss: [0.07059036]\n",
      "Epoch: 950 Loss: [0.07007791]\n",
      "Epoch: 1000 Loss: [0.06875975]\n",
      "Epoch: 1050 Loss: [0.06725993]\n",
      "Epoch: 1100 Loss: [0.0666131]\n",
      "Epoch: 1150 Loss: [0.06559599]\n",
      "Epoch: 1200 Loss: [0.06495209]\n",
      "Epoch: 1250 Loss: [0.06411008]\n",
      "Epoch: 1300 Loss: [0.06392253]\n",
      "Epoch: 1350 Loss: [0.06299444]\n",
      "Epoch: 1400 Loss: [0.06237286]\n",
      "Epoch: 1450 Loss: [0.06208758]\n",
      "Epoch: 1500 Loss: [0.06155842]\n",
      "Epoch: 1550 Loss: [0.06108415]\n",
      "Epoch: 1600 Loss: [0.06053189]\n",
      "Epoch: 1650 Loss: [0.06033114]\n",
      "Epoch: 1700 Loss: [0.05993671]\n",
      "Epoch: 1750 Loss: [0.05977705]\n",
      "Epoch: 1800 Loss: [0.05946105]\n",
      "Epoch: 1850 Loss: [0.05880969]\n",
      "Epoch: 1900 Loss: [0.05851433]\n",
      "Epoch: 1950 Loss: [0.05806288]\n",
      "Epoch: 2000 Loss: [0.05792227]\n"
     ]
    }
   ],
   "source": [
    "layers = feed_dict['layers']\n",
    "train_losses = []\n",
    "feed_dict['rr'] = [np.zeros(feed_dict['output'][0]['weights'].shape), np.zeros(feed_dict['output'][1]['weights'].shape), np.zeros(feed_dict['output'][2]['weights'].shape)]\n",
    "for epoch in range(epochs):\n",
    "    cost_per_epoch = 0\n",
    "    #shuffling the data\n",
    "    s = np.arange(feed_dict['train_input'].shape[0])\n",
    "    np.random.shuffle(s)\n",
    "    feed_dict['train_input'] = feed_dict['train_input'][s]\n",
    "    feed_dict['train_label'] = feed_dict['train_label'][s]\n",
    "    for batch in range(no_batches):\n",
    "        # weight matrices for sum of updates of batch\n",
    "        weights_fc_0 = np.zeros(feed_dict['output'][0]['weights'].shape)\n",
    "        weights_fc_1 = np.zeros(feed_dict['output'][1]['weights'].shape)\n",
    "        weights_fc_2 = np.zeros(feed_dict['output'][2]['weights'].shape)\n",
    "        for i in range(batch_size):\n",
    "            #feeding forward\n",
    "            feed_dict['output'][0]['output'], feed_dict['output'][0]['output_raw'] = fully_connected(feed_dict['train_input'][i + batch * batch_size], weights = feed_dict['output'][0]['weights'], nodes = layers[0]['nodes'], activation = layers[0]['activation'])\n",
    "            feed_dict['output'][1]['output'], feed_dict['output'][1]['output_raw'] = fully_connected(feed_dict['output'][0]['output'], weights = feed_dict['output'][1]['weights'], nodes = layers[1]['nodes'], activation = layers[1]['activation'])\n",
    "            feed_dict['output'][2]['output'], feed_dict['output'][2]['output_raw'] = fully_connected(feed_dict['output'][1]['output'], weights = feed_dict['output'][2]['weights'], nodes = layers[2]['nodes'], activation = layers[2]['activation'])\n",
    "            \n",
    "            #cost calculation\n",
    "            cost_per_epoch = cost_per_epoch - np.log(feed_dict['output'][2]['output'][np.argmax(feed_dict['train_label'][i + batch * batch_size])])\n",
    "            \n",
    "            #calculating the gradients\n",
    "            feed_dict['output'][2]['semi_update'] = feed_dict['output'][2]['output'] - feed_dict['train_label'][i + batch * batch_size].reshape(-1,1)\n",
    "            feed_dict['output'][2]['update'] = np.matmul(feed_dict['output'][2]['semi_update'] , np.transpose(np.vstack((feed_dict['output'][1]['output'],1))))\n",
    "            \n",
    "            temp = feed_dict['output'][2]['weights'][:,0:feed_dict['output'][2]['weights'].shape[1]-1]\n",
    "            feed_dict['output'][1]['semi_update'] = np.matmul(np.transpose(temp), feed_dict['output'][2]['semi_update']) * deriv(feed_dict['output'][1]['output_raw'])\n",
    "            feed_dict['output'][1]['update'] = np.matmul(feed_dict['output'][1]['semi_update'] , np.transpose(np.vstack((feed_dict['output'][0]['output'],1))))\n",
    "            \n",
    "            temp = feed_dict['output'][1]['weights'][:,0:feed_dict['output'][1]['weights'].shape[1]-1]\n",
    "            feed_dict['output'][0]['semi_update'] = np.matmul(np.transpose(temp), feed_dict['output'][1]['semi_update']) * deriv(feed_dict['output'][0]['output_raw'])\n",
    "            feed_dict['output'][0]['update'] = np.matmul(feed_dict['output'][0]['semi_update'],np.transpose(np.vstack((np.expand_dims(feed_dict['train_input'][i + batch * batch_size],axis = 1),1))))\n",
    "            \n",
    "            weights_fc_0 += feed_dict['output'][0]['update']\n",
    "            weights_fc_1 += feed_dict['output'][1]['update']\n",
    "            weights_fc_2 += feed_dict['output'][2]['update']\n",
    "            \n",
    "        #updating the gradient after each batch\n",
    "        feed_dict['rr'][0] = feed_dict['rr'][0] + (weights_fc_0 * weights_fc_0)\n",
    "        feed_dict['rr'][1] = feed_dict['rr'][1] + (weights_fc_1 * weights_fc_1)\n",
    "        feed_dict['rr'][2] = feed_dict['rr'][2] + (weights_fc_2 * weights_fc_2) \n",
    "        feed_dict['output'][0]['weights'] -= (feed_dict['learning_rate_epsilon']*weights_fc_0)/(feed_dict['const_delta'] + np.sqrt(feed_dict['rr'][0]))\n",
    "        feed_dict['output'][1]['weights'] -= (feed_dict['learning_rate_epsilon']*weights_fc_1)/(feed_dict['const_delta'] + np.sqrt(feed_dict['rr'][1]))\n",
    "        feed_dict['output'][2]['weights'] -= (feed_dict['learning_rate_epsilon']*weights_fc_2)/(feed_dict['const_delta'] + np.sqrt(feed_dict['rr'][2]))\n",
    "        \n",
    "    #printing the Average Loss after each epoch\n",
    "    if((epoch+1)%50 ==0):\n",
    "        print(\"Epoch: \" + str(epoch+1) + \" Loss: \" + str(cost_per_epoch/no_samples))\n",
    "    train_losses.append(cost_per_epoch/no_samples)"
   ]
  },
  {
   "cell_type": "markdown",
   "metadata": {},
   "source": [
    "## Saving the Model"
   ]
  },
  {
   "cell_type": "code",
   "execution_count": 12,
   "metadata": {},
   "outputs": [],
   "source": [
    "np.save(\"adagrad.npy\", feed_dict)"
   ]
  },
  {
   "cell_type": "markdown",
   "metadata": {},
   "source": [
    "## Plotting the training loss"
   ]
  },
  {
   "cell_type": "code",
   "execution_count": 13,
   "metadata": {},
   "outputs": [
    {
     "data": {
      "image/png": "[encoded data removed]",
      "text/plain": [
       "<Figure size 432x288 with 1 Axes>"
      ]
     },
     "metadata": {
      "needs_background": "light"
     },
     "output_type": "display_data"
    }
   ],
   "source": [
    "train_losses = np.array(train_losses)\n",
    "plt.plot(train_losses)\n",
    "plt.title('LOSS Vs Epochs')\n",
    "plt.ylabel('Cross Entrphoy Loss')\n",
    "plt.xlabel('Number of Epochs')\n",
    "plt.show()"
   ]
  },
  {
   "cell_type": "markdown",
   "metadata": {},
   "source": [
    "## Prediction on one sample"
   ]
  },
  {
   "cell_type": "code",
   "execution_count": 14,
   "metadata": {},
   "outputs": [
    {
     "name": "stdout",
     "output_type": "stream",
     "text": [
      "output of softmax for one sample:\n",
      "[[9.99982461e-01]\n",
      " [1.75390094e-05]\n",
      " [4.93348474e-13]]\n",
      "\n",
      "Ground Truth of the same sample above:\n",
      "[1. 0. 0.]\n"
     ]
    }
   ],
   "source": [
    "feed_dict['output'][0]['output'], feed_dict['output'][0]['output_raw'] = fully_connected(feed_dict['train_input'][0], weights = feed_dict['output'][0]['weights'], nodes = layers[0]['nodes'], activation = layers[0]['activation'])\n",
    "feed_dict['output'][1]['output'], feed_dict['output'][1]['output_raw'] = fully_connected(feed_dict['output'][0]['output'], weights = feed_dict['output'][1]['weights'], nodes = layers[1]['nodes'], activation = layers[1]['activation'])\n",
    "feed_dict['output'][2]['output'], feed_dict['output'][2]['output_raw'] = fully_connected(feed_dict['output'][1]['output'], weights = feed_dict['output'][2]['weights'], nodes = layers[2]['nodes'], activation = layers[2]['activation'])\n",
    "\n",
    "print 'output of softmax for one sample:'\n",
    "print feed_dict['output'][2]['output']\n",
    "\n",
    "print '\\nGround Truth of the same sample above:'\n",
    "print feed_dict['train_label'][0]"
   ]
  },
  {
   "cell_type": "markdown",
   "metadata": {},
   "source": [
    "## Predicting on Test Data"
   ]
  },
  {
   "cell_type": "code",
   "execution_count": 15,
   "metadata": {},
   "outputs": [],
   "source": [
    "test_predicted = []\n",
    "gt = []\n",
    "# print(np.argmax(out))\n",
    "for i in range(feed_dict['test_input'].shape[0]):\n",
    "    feed_dict['output'][0]['output'], feed_dict['output'][0]['output_raw'] = fully_connected(feed_dict['test_input'][i], weights = feed_dict['output'][0]['weights'], nodes = layers[0]['nodes'], activation = layers[0]['activation'])\n",
    "    feed_dict['output'][1]['output'], feed_dict['output'][1]['output_raw'] = fully_connected(feed_dict['output'][0]['output'], weights = feed_dict['output'][1]['weights'], nodes = layers[1]['nodes'], activation = layers[1]['activation'])\n",
    "    feed_dict['output'][2]['output'], feed_dict['output'][2]['output_raw'] = fully_connected(feed_dict['output'][1]['output'], weights = feed_dict['output'][2]['weights'], nodes = layers[2]['nodes'], activation = layers[2]['activation'])\n",
    "    \n",
    "    test_predicted.append(np.argmax(feed_dict['output'][2]['output']))\n",
    "    gt.append(np.argmax(feed_dict['test_label'][i]))"
   ]
  },
  {
   "cell_type": "markdown",
   "metadata": {},
   "source": [
    "## Outputs and the respective Groucd Truths"
   ]
  },
  {
   "cell_type": "code",
   "execution_count": 16,
   "metadata": {},
   "outputs": [
    {
     "name": "stdout",
     "output_type": "stream",
     "text": [
      "predicted:  [0, 0, 1, 0, 1, 1, 2, 0, 2, 1, 0, 1, 0, 1, 0, 0, 1, 0, 1, 2, 0, 0, 0, 0, 1, 2, 1, 1, 0, 0]\n",
      "Actual   :  [0, 0, 1, 0, 1, 1, 2, 0, 2, 1, 0, 1, 0, 1, 0, 0, 1, 0, 1, 2, 0, 0, 0, 0, 1, 2, 1, 1, 0, 0]\n"
     ]
    }
   ],
   "source": [
    "print 'predicted: ',test_predicted\n",
    "print 'Actual   : ', gt"
   ]
  },
  {
   "cell_type": "markdown",
   "metadata": {},
   "source": [
    "## Accuracy on the Test Dataset"
   ]
  },
  {
   "cell_type": "code",
   "execution_count": 17,
   "metadata": {},
   "outputs": [
    {
     "name": "stdout",
     "output_type": "stream",
     "text": [
      "accuracy:  1.0\n"
     ]
    }
   ],
   "source": [
    "a = np.array(test_predicted) - np.array(gt)\n",
    "test_accuracy = (len(a) - np.count_nonzero(a))/float(len(a))\n",
    "\n",
    "print 'accuracy: ', str(test_accuracy)"
   ]
  }
 ],
 "metadata": {
  "kernelspec": {
   "display_name": "Python 2",
   "language": "python",
   "name": "python2"
  },
  "language_info": {
   "codemirror_mode": {
    "name": "ipython",
    "version": 2
   },
   "file_extension": ".py",
   "mimetype": "text/x-python",
   "name": "python",
   "nbconvert_exporter": "python",
   "pygments_lexer": "ipython2",
   "version": "2.7.15rc1"
  }
 },
 "nbformat": 4,
 "nbformat_minor": 2
}
