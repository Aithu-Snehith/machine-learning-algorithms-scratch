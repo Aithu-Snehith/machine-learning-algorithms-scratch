{
 "cells": [
  {
   "cell_type": "markdown",
   "metadata": {},
   "source": [
    "# Importing the packages"
   ]
  },
  {
   "cell_type": "code",
   "execution_count": 1,
   "metadata": {},
   "outputs": [],
   "source": [
    "import numpy as np\n",
    "import matplotlib.pyplot as plt\n",
    "from scipy.misc import imread , imresize\n",
    "import os\n",
    "import time"
   ]
  },
  {
   "cell_type": "markdown",
   "metadata": {},
   "source": [
    "# Parameters"
   ]
  },
  {
   "cell_type": "code",
   "execution_count": 57,
   "metadata": {},
   "outputs": [],
   "source": [
    "no_latent = 10\n",
    "lr = 1e-3\n",
    "epochs = 100"
   ]
  },
  {
   "cell_type": "markdown",
   "metadata": {},
   "source": [
    "# Declaring functions"
   ]
  },
  {
   "cell_type": "code",
   "execution_count": 3,
   "metadata": {},
   "outputs": [],
   "source": [
    "# Sigmoid\n",
    "\n",
    "def sigmoid(x):\n",
    "    return 1/(1 + np.exp(-x))\n",
    "\n",
    "#derivative of sigmoid\n",
    "def deriv_sigmoid(x):\n",
    "    return np.exp(-x)/((1+ np.multiply(np.exp(-x),np.exp(-x))))\n",
    "\n",
    "# softmax\n",
    "\n",
    "def softmax(x):\n",
    "    out = np.zeros(x.shape)\n",
    "    for i in range(0,x.shape[0]):\n",
    "        for j in range(0,x.shape[1]):\n",
    "            out[i,j] = np.exp(x[i,j])/np.sum(np.exp(x[i]))\n",
    "    return out\n",
    "\n",
    "# sum of Squared error\n",
    "\n",
    "def squared_error(y_train, y_predicted):\n",
    "    return np.sum(np.multiply(y_train - y_predicted , y_train - y_predicted))"
   ]
  },
  {
   "cell_type": "code",
   "execution_count": 21,
   "metadata": {},
   "outputs": [],
   "source": [
    "def load_flattened_images(Loc):\n",
    "    Images = []\n",
    "    for root, dirs, files in os.walk(Loc):\n",
    "        for file in files:\n",
    "            Image = imread(os.path.join(root, file))\n",
    "            Image = Image / 255.0\n",
    "            Images.append(Image.flatten())\n",
    "                \n",
    "    Images = np.asmatrix(Images)\n",
    "    print(Images.shape)\n",
    "\n",
    "    return Images"
   ]
  },
  {
   "cell_type": "code",
   "execution_count": 90,
   "metadata": {},
   "outputs": [],
   "source": [
    "## fitting the model\n",
    "\n",
    "def net_fit_vae(x_train , y_train , epochs = 100 , no_latent = 10 , lr = 1e-3):\n",
    "    input_dim = x_train.shape[1]\n",
    "    training_samples = x_train.shape[0]\n",
    "    output_dim = y_train.shape[1]\n",
    "    costs = []\n",
    "    x_train = np.hstack((np.ones((training_samples , 1)), x_train))\n",
    "    #initializig the parameters\n",
    "    alpha = np.asmatrix(np.random.normal(0,1e-5,(input_dim + 1 , no_latent)))\n",
    "    gaama = np.asmatrix(np.random.normal(0,1e-5,(input_dim + 1 , no_latent)))\n",
    "    beta = np.asmatrix(np.random.normal(0,1e-5,(no_latent+1 , output_dim)))\n",
    "    \n",
    "    #looping for number of itretions\n",
    "    for epoch in range(0,epochs):\n",
    "        mu_raw = x_train * alpha\n",
    "        mu = sigmoid(mu_raw)\n",
    "        sigma_raw = x_train * gaama\n",
    "        sigma = sigmoid(sigma_raw)\n",
    "        \n",
    "        #finding z matrix\n",
    "        z = np.multiply((np.repeat(np.asmatrix(np.random.multivariate_normal(np.zeros((no_latent)) , np.eye(no_latent))), training_samples,axis = 0)) , np.exp(0.5*sigma))+mu\n",
    "        z_biased = np.asmatrix(np.hstack((np.ones((training_samples,1)),z)))\n",
    "        \n",
    "        #finding y matrix\n",
    "        y_raw = z_biased * beta\n",
    "        y_predicted = sigmoid(y_raw)\n",
    "        \n",
    "        ##finding the cost\n",
    "        cost = squared_error(y_train , y_predicted) + 0.5*(np.sum(np.square(mu)) + np.sum(np.exp(sigma)) - np.sum(sigma) - no_latent*training_samples)\n",
    "        costs.append(cost)\n",
    "        #finding gradient w.r.t beta\n",
    "        delta = np.multiply((y_predicted - y_train), deriv_sigmoid(y_raw))\n",
    "        d_beta = z_biased.T * delta\n",
    "        \n",
    "        temp_beta = beta[1:,:]\n",
    "        \n",
    "        #finding gradient w.r.t alpha\n",
    "        ss_alpha = np.multiply((delta * temp_beta.T),deriv_sigmoid(mu_raw))\n",
    "        d_alpha = x_train.T * (ss_alpha + np.multiply(mu , deriv_sigmoid(mu_raw)))\n",
    "\n",
    "        #finding gradient w.r.t gaama\n",
    "        ss_beta = np.multiply((delta * temp_beta.T),deriv_sigmoid(sigma_raw))\n",
    "        d_gaama = x_train.T * (0.5* np.multiply(ss_beta , np.exp(0.5 * sigma)) + np.multiply(np.exp(sigma) , deriv_sigmoid(sigma_raw)) - deriv_sigmoid(sigma_raw))\n",
    "        \n",
    "        #updating the weights\n",
    "        beta = beta - lr * d_beta\n",
    "        alpha = alpha - lr*d_alpha\n",
    "        gaama = gaama - lr*d_gaama\n",
    "#         print(np.max(alpha) , np.max(beta) , np.min(alpha) , np.min(beta))\n",
    "        print(\"\\nEpoch: \" + str(epoch+1) + \"   cost : \" + str(cost))\n",
    "    return beta , costs"
   ]
  },
  {
   "cell_type": "code",
   "execution_count": 91,
   "metadata": {},
   "outputs": [],
   "source": [
    "#prediction\n",
    "\n",
    "def net_generate(number , weights , no_latent):\n",
    "    generated = []\n",
    "    for i in range(0,number):\n",
    "        x = np.asmatrix(np.random.multivariate_normal(np.zeros((no_latent)) , np.eye(no_latent)))\n",
    "        x = np.asmatrix(np.hstack(([[1]],x)))\n",
    "        gen = sigmoid(x * weights)\n",
    "        gen_image = gen.reshape(28,28)\n",
    "        generated.append(gen_image)\n",
    "    return generated"
   ]
  },
  {
   "cell_type": "markdown",
   "metadata": {},
   "source": [
    "# Generating training data"
   ]
  },
  {
   "cell_type": "code",
   "execution_count": 97,
   "metadata": {},
   "outputs": [
    {
     "name": "stdout",
     "output_type": "stream",
     "text": [
      "(4132, 784)\n"
     ]
    }
   ],
   "source": [
    "# x_train = load_flattened_images(\"/home/snehith/Documents/machine learning/datasets/mnist/mnistasjpg/trainingSet/0\")\n",
    "# np.save(\"train_set_vae0.npy\" , x_train)\n",
    "x_train = np.asmatrix(np.load(\"train_set_vae0.npy\"))\n",
    "print(x_train.shape)"
   ]
  },
  {
   "cell_type": "markdown",
   "metadata": {},
   "source": [
    "# Training the Model"
   ]
  },
  {
   "cell_type": "code",
   "execution_count": 98,
   "metadata": {
    "scrolled": true
   },
   "outputs": [
    {
     "name": "stdout",
     "output_type": "stream",
     "text": [
      "\n",
      "Epoch: 1   cost : 725086.136243532\n",
      "\n",
      "Epoch: 2   cost : 322541.51573729515\n",
      "\n",
      "Epoch: 3   cost : 669175.7539098519\n",
      "\n",
      "Epoch: 4   cost : 217094.72920800574\n",
      "\n",
      "Epoch: 5   cost : 235249.71285442586\n",
      "\n",
      "Epoch: 6   cost : 207249.00742859082\n",
      "\n",
      "Epoch: 7   cost : 202111.12168735985\n",
      "\n",
      "Epoch: 8   cost : 1352057.1311466217\n",
      "\n",
      "Epoch: 9   cost : 893579.1080725547\n",
      "\n",
      "Epoch: 10   cost : 216532.42286970024\n",
      "\n",
      "Epoch: 11   cost : 239362.49715282736\n",
      "\n",
      "Epoch: 12   cost : 293122.44507299695\n",
      "\n",
      "Epoch: 13   cost : 216216.97785743725\n",
      "\n",
      "Epoch: 14   cost : 1618535.8314190523\n",
      "\n",
      "Epoch: 15   cost : 340584.01575966296\n",
      "\n",
      "Epoch: 16   cost : 1929043.3005736817\n",
      "\n",
      "Epoch: 17   cost : 263063.90100896836\n",
      "\n",
      "Epoch: 18   cost : 278276.83750033745\n",
      "\n",
      "Epoch: 19   cost : 455252.4498715482\n",
      "\n",
      "Epoch: 20   cost : 266590.7384369603\n",
      "\n",
      "Epoch: 21   cost : 342828.47516364977\n",
      "\n",
      "Epoch: 22   cost : 341424.9807052815\n",
      "\n",
      "Epoch: 23   cost : 242469.1570861982\n",
      "\n",
      "Epoch: 24   cost : 268553.1406988095\n",
      "\n",
      "Epoch: 25   cost : 613325.8634369563\n",
      "\n",
      "Epoch: 26   cost : 335122.8197375136\n",
      "\n",
      "Epoch: 27   cost : 327478.1361114827\n",
      "\n",
      "Epoch: 28   cost : 270573.4093212919\n",
      "\n",
      "Epoch: 29   cost : 303350.3632110347\n",
      "\n",
      "Epoch: 30   cost : 313924.2986322339\n",
      "\n",
      "Epoch: 31   cost : 510444.90961341193\n",
      "\n",
      "Epoch: 32   cost : 273754.20274591004\n",
      "\n",
      "Epoch: 33   cost : 269493.0551844204\n",
      "\n",
      "Epoch: 34   cost : 465949.97291683586\n",
      "\n",
      "Epoch: 35   cost : 269408.1866637219\n",
      "\n",
      "Epoch: 36   cost : 309300.84601512825\n",
      "\n",
      "Epoch: 37   cost : 315044.0857985285\n",
      "\n",
      "Epoch: 38   cost : 292167.88923250284\n",
      "\n",
      "Epoch: 39   cost : 265703.69650440343\n",
      "\n",
      "Epoch: 40   cost : 314929.6049868213\n",
      "\n",
      "Epoch: 41   cost : 276949.5077828565\n",
      "\n",
      "Epoch: 42   cost : 293999.8293699517\n",
      "\n",
      "Epoch: 43   cost : 272338.56761919986\n",
      "\n",
      "Epoch: 44   cost : 278515.2582508874\n",
      "\n",
      "Epoch: 45   cost : 265505.519945937\n",
      "\n",
      "Epoch: 46   cost : 315889.0693662229\n",
      "\n",
      "Epoch: 47   cost : 291503.5590985461\n",
      "\n",
      "Epoch: 48   cost : 306417.650716276\n",
      "\n",
      "Epoch: 49   cost : 301936.5540661765\n",
      "\n",
      "Epoch: 50   cost : 293164.8093645576\n",
      "\n",
      "Epoch: 51   cost : 260634.44523851894\n",
      "\n",
      "Epoch: 52   cost : 280865.2499739564\n",
      "\n",
      "Epoch: 53   cost : 287546.406339641\n",
      "\n",
      "Epoch: 54   cost : 304791.263398947\n",
      "\n",
      "Epoch: 55   cost : 298195.3723381533\n",
      "\n",
      "Epoch: 56   cost : 263686.7321894386\n",
      "\n",
      "Epoch: 57   cost : 304316.8777188359\n",
      "\n",
      "Epoch: 58   cost : 291130.1328634908\n",
      "\n",
      "Epoch: 59   cost : 308590.22311147535\n",
      "\n",
      "Epoch: 60   cost : 295632.9259527002\n",
      "\n",
      "Epoch: 61   cost : 308008.9466568278\n",
      "\n",
      "Epoch: 62   cost : 286668.5940175907\n",
      "\n",
      "Epoch: 63   cost : 292622.22845959343\n",
      "\n",
      "Epoch: 64   cost : 295329.0954415212\n",
      "\n",
      "Epoch: 65   cost : 380408.1439519043\n",
      "\n",
      "Epoch: 66   cost : 353012.7344745292\n",
      "\n",
      "Epoch: 67   cost : 303965.645655741\n",
      "\n",
      "Epoch: 68   cost : 272720.75464770774\n",
      "\n",
      "Epoch: 69   cost : 284110.41535085917\n",
      "\n",
      "Epoch: 70   cost : 276925.9681618149\n",
      "\n",
      "Epoch: 71   cost : 267541.15657566546\n",
      "\n",
      "Epoch: 72   cost : 279118.1058612356\n",
      "\n",
      "Epoch: 73   cost : 280200.2389221098\n",
      "\n",
      "Epoch: 74   cost : 270328.0977017689\n",
      "\n",
      "Epoch: 75   cost : 307958.0583830132\n",
      "\n",
      "Epoch: 76   cost : 318970.71227484755\n",
      "\n",
      "Epoch: 77   cost : 280599.5875669026\n",
      "\n",
      "Epoch: 78   cost : 302277.2828655003\n",
      "\n",
      "Epoch: 79   cost : 281598.53797577956\n",
      "\n",
      "Epoch: 80   cost : 276972.9299321137\n",
      "\n",
      "Epoch: 81   cost : 319525.1748981624\n",
      "\n",
      "Epoch: 82   cost : 296603.8190063994\n",
      "\n",
      "Epoch: 83   cost : 284579.55915852654\n",
      "\n",
      "Epoch: 84   cost : 303830.6394183136\n",
      "\n",
      "Epoch: 85   cost : 1133553.5228465071\n",
      "\n",
      "Epoch: 86   cost : 292639.3053169087\n",
      "\n",
      "Epoch: 87   cost : 290533.8826376454\n",
      "\n",
      "Epoch: 88   cost : 2104508.6013035034\n",
      "\n",
      "Epoch: 89   cost : 287252.76202024845\n",
      "\n",
      "Epoch: 90   cost : 284428.060792505\n",
      "\n",
      "Epoch: 91   cost : 291757.6743289549\n",
      "\n",
      "Epoch: 92   cost : 279999.12864627474\n",
      "\n",
      "Epoch: 93   cost : 290301.0086395279\n",
      "\n",
      "Epoch: 94   cost : 287900.6059180534\n",
      "\n",
      "Epoch: 95   cost : 287993.72173146374\n",
      "\n",
      "Epoch: 96   cost : 638460.4617442155\n",
      "\n",
      "Epoch: 97   cost : 426162.55763212324\n",
      "\n",
      "Epoch: 98   cost : 300674.30607757566\n",
      "\n",
      "Epoch: 99   cost : 278225.888152339\n",
      "\n",
      "Epoch: 100   cost : 292688.9862684653\n",
      "time taken: 48.27308440208435sec\n"
     ]
    }
   ],
   "source": [
    "# alpha , beta , losses = net_fit(x_Train , y_train_and , hidden_nodes = hidden_nodes , epochs = epochs ,lr = lr)\n",
    "tic = time.time()\n",
    "weights , lossses = net_fit_vae(x_train , x_train , no_latent = no_latent , epochs = epochs ,lr = lr)\n",
    "print(\"time taken: \"+ str(time.time() - tic) + \"sec\")\n",
    "# print(\"\\nalpha:\\n\",alpha ,\"\\nbeta:\\n\", beta,\"\\n\" ,\"\\nloss:\\n\", losses[epochs-1])\n",
    "np.save(\"weights_vae.npy\" , weights)\n",
    "# np.save(\"beta_weights_vae.npy\" , beta)"
   ]
  },
  {
   "cell_type": "markdown",
   "metadata": {},
   "source": [
    "### Predicting"
   ]
  },
  {
   "cell_type": "code",
   "execution_count": 102,
   "metadata": {
    "scrolled": false
   },
   "outputs": [
    {
     "data": {
      "image/png": "[encoded data removed]",
      "text/plain": [
       "<Figure size 1080x1080 with 16 Axes>"
      ]
     },
     "metadata": {},
     "output_type": "display_data"
    }
   ],
   "source": [
    "#testing samples\n",
    "#predicting the output\n",
    "result = net_generate(16 , weights , no_latent)\n",
    "# print(np.max(res)  , np.max(x_test))\n",
    "# print(losses.shape)\n",
    "plt.figure(figsize = (15,15))\n",
    "for i in range(0,16):\n",
    "    plt.subplot(4,4,i+1)\n",
    "    plt.imshow(result[i] , cmap = 'gray')"
   ]
  },
  {
   "cell_type": "code",
   "execution_count": 100,
   "metadata": {
    "scrolled": false
   },
   "outputs": [
    {
     "data": {
      "image/png": "[encoded data removed]",
      "text/plain": [
       "<Figure size 432x288 with 1 Axes>"
      ]
     },
     "metadata": {},
     "output_type": "display_data"
    }
   ],
   "source": [
    "#ploting the cost vs epochs\n",
    "plt.plot(np.arange(epochs),costs)\n",
    "# plt.plot(np.arange(epochs),means)\n",
    "plt.title(\"training samples: \" + str(x_train.shape[0]))\n",
    "plt.xlabel(\"epochs\")\n",
    "plt.ylabel(\"cost\")\n",
    "plt.show()"
   ]
  }
 ],
 "metadata": {
  "kernelspec": {
   "display_name": "Python 2",
   "language": "python",
   "name": "python2"
  },
  "language_info": {
   "codemirror_mode": {
    "name": "ipython",
    "version": 3
   },
   "file_extension": ".py",
   "mimetype": "text/x-python",
   "name": "python",
   "nbconvert_exporter": "python",
   "pygments_lexer": "ipython3",
   "version": "3.5.2"
  }
 },
 "nbformat": 4,
 "nbformat_minor": 2
}
